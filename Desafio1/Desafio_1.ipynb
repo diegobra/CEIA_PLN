{
  "cells": [
    {
      "cell_type": "markdown",
      "metadata": {
        "id": "zq6j8LsYq1Dr"
      },
      "source": [
        "### Vectorización de texto y modelo de clasificación Naïve Bayes con el dataset 20 newsgroups"
      ]
    },
    {
      "cell_type": "code",
      "execution_count": 95,
      "metadata": {
        "id": "l7cXR6CI30ry"
      },
      "outputs": [],
      "source": [
        "from sklearn.feature_extraction.text import CountVectorizer, TfidfVectorizer\n",
        "from sklearn.metrics.pairwise import cosine_similarity\n",
        "from sklearn.naive_bayes import MultinomialNB, ComplementNB\n",
        "from sklearn.metrics import f1_score\n",
        "\n",
        "# 20newsgroups por ser un dataset clásico de NLP ya viene incluido y formateado\n",
        "# en sklearn\n",
        "from sklearn.datasets import fetch_20newsgroups\n",
        "import numpy as np"
      ]
    },
    {
      "cell_type": "markdown",
      "metadata": {
        "id": "yD-pVDWV_rQc"
      },
      "source": [
        "## Carga de datos"
      ]
    },
    {
      "cell_type": "code",
      "execution_count": 96,
      "metadata": {
        "id": "Ech9qJaUo9vK"
      },
      "outputs": [],
      "source": [
        "# cargamos los datos (ya separados de forma predeterminada en train y test)\n",
        "newsgroups_train = fetch_20newsgroups(subset='train', remove=('headers', 'footers', 'quotes'))\n",
        "newsgroups_test = fetch_20newsgroups(subset='test', remove=('headers', 'footers', 'quotes'))"
      ]
    },
    {
      "cell_type": "markdown",
      "metadata": {
        "id": "UxjSI7su_uWI"
      },
      "source": [
        "## Vectorización"
      ]
    },
    {
      "cell_type": "code",
      "execution_count": 97,
      "metadata": {
        "id": "-94VP0QYCzDn"
      },
      "outputs": [],
      "source": [
        "# instanciamos un vectorizador\n",
        "# ver diferentes parámetros de instanciación en la documentación de sklearn\n",
        "tfidfvect = TfidfVectorizer()"
      ]
    },
    {
      "cell_type": "code",
      "execution_count": 98,
      "metadata": {
        "colab": {
          "base_uri": "https://localhost:8080/",
          "height": 70
        },
        "id": "ftPlyanuak8n",
        "outputId": "0e7f7733-31db-424e-9f0d-dbb9ab5cdd4d"
      },
      "outputs": [
        {
          "output_type": "execute_result",
          "data": {
            "text/plain": [
              "'I was wondering if anyone out there could enlighten me on this car I saw\\nthe other day. It was a 2-door sports car, looked to be from the late 60s/\\nearly 70s. It was called a Bricklin. The doors were really small. In addition,\\nthe front bumper was separate from the rest of the body. This is \\nall I know. If anyone can tellme a model name, engine specs, years\\nof production, where this car is made, history, or whatever info you\\nhave on this funky looking car, please e-mail.'"
            ],
            "application/vnd.google.colaboratory.intrinsic+json": {
              "type": "string"
            }
          },
          "metadata": {},
          "execution_count": 98
        }
      ],
      "source": [
        "# en el atributo `data` accedemos al texto\n",
        "newsgroups_train.data[0]"
      ]
    },
    {
      "cell_type": "code",
      "execution_count": 99,
      "metadata": {
        "id": "1zxcXV6aC_oL"
      },
      "outputs": [],
      "source": [
        "# con la interfaz habitual de sklearn podemos fitear el vectorizador\n",
        "# (obtener el vocabulario y calcular el vector IDF)\n",
        "# y transformar directamente los datos\n",
        "X_train = tfidfvect.fit_transform(newsgroups_train.data)\n",
        "# `X_train` la podemos denominar como la matriz documento-término"
      ]
    },
    {
      "cell_type": "code",
      "execution_count": 100,
      "metadata": {
        "colab": {
          "base_uri": "https://localhost:8080/"
        },
        "id": "4Sv7TXbda41-",
        "outputId": "e045cb0d-162c-49bd-8bf8-7d154cc2ffd6"
      },
      "outputs": [
        {
          "output_type": "stream",
          "name": "stdout",
          "text": [
            "<class 'scipy.sparse._csr.csr_matrix'>\n",
            "shape: (11314, 101631)\n",
            "cantidad de documentos: 11314\n",
            "tamaño del vocabulario (dimensionalidad de los vectores): 101631\n"
          ]
        }
      ],
      "source": [
        "# recordar que las vectorizaciones por conteos son esparsas\n",
        "# por ello sklearn convenientemente devuelve los vectores de documentos\n",
        "# como matrices esparsas\n",
        "print(type(X_train))\n",
        "print(f'shape: {X_train.shape}')\n",
        "print(f'cantidad de documentos: {X_train.shape[0]}')\n",
        "print(f'tamaño del vocabulario (dimensionalidad de los vectores): {X_train.shape[1]}')"
      ]
    },
    {
      "cell_type": "code",
      "execution_count": 101,
      "metadata": {
        "colab": {
          "base_uri": "https://localhost:8080/"
        },
        "id": "dgydNTZ2pAgR",
        "outputId": "81a6f461-71eb-44c0-9eab-7a8c22a7718e"
      },
      "outputs": [
        {
          "output_type": "execute_result",
          "data": {
            "text/plain": [
              "25775"
            ]
          },
          "metadata": {},
          "execution_count": 101
        }
      ],
      "source": [
        "# una vez fiteado el vectorizador, podemos acceder a atributos como el vocabulario\n",
        "# aprendido. Es un diccionario que va de términos a índices.\n",
        "# El índice es la posición en el vector de documento.\n",
        "tfidfvect.vocabulary_['car']"
      ]
    },
    {
      "cell_type": "code",
      "execution_count": 102,
      "metadata": {
        "id": "xnTSZuvyrTcP"
      },
      "outputs": [],
      "source": [
        "# es muy útil tener el diccionario opuesto que va de índices a términos\n",
        "idx2word = {v: k for k,v in tfidfvect.vocabulary_.items()}"
      ]
    },
    {
      "cell_type": "code",
      "execution_count": 103,
      "metadata": {
        "colab": {
          "base_uri": "https://localhost:8080/"
        },
        "id": "swa-AgWrMSHM",
        "outputId": "d4bfe377-ace9-47ba-923f-6406a04ea106"
      },
      "outputs": [
        {
          "output_type": "execute_result",
          "data": {
            "text/plain": [
              "array([ 7,  4,  4,  1, 14, 16, 13,  3,  2,  4])"
            ]
          },
          "metadata": {},
          "execution_count": 103
        }
      ],
      "source": [
        "# en `y_train` guardamos los targets que son enteros\n",
        "y_train = newsgroups_train.target\n",
        "y_train[:10]"
      ]
    },
    {
      "cell_type": "code",
      "execution_count": 104,
      "metadata": {
        "colab": {
          "base_uri": "https://localhost:8080/"
        },
        "id": "je5kxvQMDLvf",
        "outputId": "2a86fc94-93ef-4e0b-9c12-afeb79740a63"
      },
      "outputs": [
        {
          "output_type": "stream",
          "name": "stdout",
          "text": [
            "clases [ 0  1  2  3  4  5  6  7  8  9 10 11 12 13 14 15 16 17 18 19]\n"
          ]
        },
        {
          "output_type": "execute_result",
          "data": {
            "text/plain": [
              "['alt.atheism',\n",
              " 'comp.graphics',\n",
              " 'comp.os.ms-windows.misc',\n",
              " 'comp.sys.ibm.pc.hardware',\n",
              " 'comp.sys.mac.hardware',\n",
              " 'comp.windows.x',\n",
              " 'misc.forsale',\n",
              " 'rec.autos',\n",
              " 'rec.motorcycles',\n",
              " 'rec.sport.baseball',\n",
              " 'rec.sport.hockey',\n",
              " 'sci.crypt',\n",
              " 'sci.electronics',\n",
              " 'sci.med',\n",
              " 'sci.space',\n",
              " 'soc.religion.christian',\n",
              " 'talk.politics.guns',\n",
              " 'talk.politics.mideast',\n",
              " 'talk.politics.misc',\n",
              " 'talk.religion.misc']"
            ]
          },
          "metadata": {},
          "execution_count": 104
        }
      ],
      "source": [
        "# hay 20 clases correspondientes a los 20 grupos de noticias\n",
        "print(f'clases {np.unique(newsgroups_test.target)}')\n",
        "newsgroups_test.target_names"
      ]
    },
    {
      "cell_type": "markdown",
      "metadata": {
        "id": "SXCICFSd_y90"
      },
      "source": [
        "## Similaridad de documentos"
      ]
    },
    {
      "cell_type": "code",
      "execution_count": 105,
      "metadata": {
        "colab": {
          "base_uri": "https://localhost:8080/"
        },
        "id": "_pki_olShnyE",
        "outputId": "e3a61d66-f1b9-48a6-d60b-10587b1b010d"
      },
      "outputs": [
        {
          "output_type": "stream",
          "name": "stdout",
          "text": [
            "THE WHITE HOUSE\n",
            "\n",
            "                  Office of the Press Secretary\n",
            "                   (Pittsburgh, Pennslyvania)\n",
            "______________________________________________________________\n",
            "For Immediate Release                         April 17, 1993     \n",
            "\n",
            "             \n",
            "                  RADIO ADDRESS TO THE NATION \n",
            "                        BY THE PRESIDENT\n",
            "             \n",
            "                Pittsburgh International Airport\n",
            "                    Pittsburgh, Pennsylvania\n",
            "             \n",
            "             \n",
            "10:06 A.M. EDT\n",
            "             \n",
            "             \n",
            "             THE PRESIDENT:  Good morning.  My voice is coming to\n",
            "you this morning through the facilities of the oldest radio\n",
            "station in America, KDKA in Pittsburgh.  I'm visiting the city to\n",
            "meet personally with citizens here to discuss my plans for jobs,\n",
            "health care and the economy.  But I wanted first to do my weekly\n",
            "broadcast with the American people. \n",
            "             \n",
            "             I'm told this station first broadcast in 1920 when\n",
            "it reported that year's presidential elections.  Over the past\n",
            "seven decades presidents have found ways to keep in touch with\n",
            "the people, from whistle-stop tours to fire-side chats to the bus\n",
            "tour that I adopted, along with Vice President Gore, in last\n",
            "year's campaign.\n",
            "             \n",
            "             Every Saturday morning I take this time to talk with\n",
            "you, my fellow Americans, about the problems on your minds and\n",
            "what I'm doing to try and solve them.  It's my way of reporting\n",
            "to you and of giving you a way to hold me accountable.\n",
            "             \n",
            "             You sent me to Washington to get our government and\n",
            "economy moving after years of paralysis and policy and a bad\n",
            "experiment with trickle-down economics.  You know how important\n",
            "it is for us to make bold, comprehensive changes in the way we do\n",
            "business.  \n",
            "             \n",
            "             We live in a competitive global economy.  Nations\n",
            "rise and fall on the skills of their workers, the competitiveness\n",
            "of their companies, the imagination of their industries, and the\n",
            "cooperative experience and spirit that exists between business,\n",
            "labor and government.  Although many of the economies of the\n",
            "industrialized world are now suffering from slow growth, they've\n",
            "made many of the smart investments and the tough choices which\n",
            "our government has for too long ignored.  That's why many of them\n",
            "have been moving ahead and too many of our people have been\n",
            "falling behind.\n",
            "             \n",
            "             We have an economy today that even when it grows is\n",
            "not producing new jobs.  We've increased the debt of our nation\n",
            "by four times over the last 12 years, and we don't have much to\n",
            "show for it.  We know that wages of most working people have\n",
            "stopped rising, that most people are working longer work weeks\n",
            "and that too many families can no longer afford the escalating\n",
            "cost of health care.\n",
            "             \n",
            "             But we also know that, given the right tools, the\n",
            "right incentives and the right encouragement, our workers and\n",
            "businesses can make the kinds of products and profits our economy\n",
            "needs to expand opportunity and to make our communities better\n",
            "places to live.\n",
            "             \n",
            "             In many critical products today Americans are the\n",
            "low cost, high quality producers.  Our task is to make sure that\n",
            "we create more of those kinds of jobs.\n",
            "             \n",
            "             Just two months ago I gave Congress my plan for\n",
            "long-term jobs and economic growth.  It changes the old\n",
            "priorities in Washington and puts our emphasis where it needs to\n",
            "be -- on people's real needs, on increasing investments and jobs\n",
            "and education, on cutting the federal deficit, on stopping the\n",
            "waste which pays no dividends, and redirecting our precious\n",
            "resources toward investment that creates jobs now and lays the\n",
            "groundwork for robust economic growth in the future.\n",
            "             \n",
            "             These new directions passed the Congress in record\n",
            "time and created a new sense of hope and opportunity in our\n",
            "country.  Then the jobs plan I presented to Congress, which would\n",
            "create hundreds of thousands of jobs, most of them in the private\n",
            "sector in 1993 and 1994, passed the House of Representatives.  It\n",
            "now has the support of a majority of the United States Senate. \n",
            "But it's been held up by a filibuster of a minority in the\n",
            "Senate, just 43 senators.  They blocked a vote that they know\n",
            "would result in the passage of our bill and the creation of jobs.\n",
            "             \n",
            "             The issue isn't politics; the issue is people. \n",
            "Millions of Americans are waiting for this legislation and\n",
            "counting on it, counting on us in Washington.  But the jobs bill\n",
            "has been grounded by gridlock.  \n",
            "             \n",
            "             I know the American people are tired of business as\n",
            "usual and politics as usual.  I know they don't want us to spin\n",
            "or wheels.  They want the recovery to get moving.  So I have\n",
            "taken a first step to break this gridlock and gone the extra\n",
            "mile.  Yesterday I offered to cut the size of this plan by 25\n",
            "percent -- from $16 billion to $12 billion.  \n",
            "             \n",
            "             It's not what I'd hoped for.  With 16 million\n",
            "Americans looking for full-time work, I simply can't let the bill\n",
            "languish when I know that even a compromise bill will mean\n",
            "hundreds of thousands of jobs for our people.  The mandate is to\n",
            "act to achieve change and move the country forward.  By taking\n",
            "this initiative in the face of an unrelenting Senate talkathon, I\n",
            "think we can respond to your mandate and achieve a significant\n",
            "portion of our original goals.\n",
            "             \n",
            "             First, we want to keep the programs as much as\n",
            "possible that are needed to generate jobs and meet human needs,\n",
            "including highway and road construction, summer jobs for young\n",
            "people, immunization for children, construction of waste water\n",
            "sites, and aid to small businesses.  We also want to keep funding\n",
            "for extended unemployment compensation benefits, for people who\n",
            "have been unemployed for a long time because the economy isn't\n",
            "creating jobs.\n",
            "             \n",
            "             Second, I've recommended that all the other programs\n",
            "in the bill be cut across-the-board by a little more than 40\n",
            "percent.\n",
            "             \n",
            "             And third, I've recommended a new element in this\n",
            "program to help us immediately start our attempt to fight against\n",
            "crime by providing $200 million for cities and towns to rehire\n",
            "police officers who lost their jobs during the recession and put\n",
            "them back to work protecting our people.  I'm also going to fight\n",
            "for a tough crime bill because the people of this country need it\n",
            "and deserve it.\n",
            "             \n",
            "             Now, the people who are filibustering this bill --\n",
            "the Republican senators -- say they won't vote for it because it\n",
            "increases deficit spending, because there's extra spending this\n",
            "year that hasn't already been approved.  That sounds reasonable,\n",
            "doesn't it?  Here's what they don't say.  This program is more\n",
            "than paid for by budget cuts over my five-year budget, and this\n",
            "budget is well within the spending limits already approved by the\n",
            "Congress this year.\n",
            "             \n",
            "             It's amazing to me that many of these same senators\n",
            "who are filibustering the bill voted during the previous\n",
            "administration for billions of dollars of the same kind of\n",
            "emergency spending, and much of it was not designed to put the\n",
            "American people to work.  \n",
            "             \n",
            "             This is not about deficit spending.  We have offered\n",
            "a plan to cut the deficit.  This is about where your priorities\n",
            "are -- on people or on politics.  \n",
            "             \n",
            "             Keep in mind that our jobs bill is paid for dollar\n",
            "for dollar.  It is paid for by budget cuts.  And it's the\n",
            "soundest investment we can now make for ourselves and our\n",
            "children.  I urge all Americans to take another look at this jobs\n",
            "and investment program; to consider again the benefits for all of\n",
            "us when we've helped make more American partners working to\n",
            "ensure the future of our nation and the strength of our economy.\n",
            "             \n",
            "             You know, if every American who wanted a job had\n",
            "one, we wouldn't have a lot of the other problems we have in this\n",
            "country today.  This bill is not a miracle, it's a modest first\n",
            "step to try to set off a job creation explosion in this country\n",
            "again.  But it's a step we ought to take.  And it is fully paid\n",
            "for over the life of our budget.\n",
            "             \n",
            "             Tell your lawmakers what you think.  Tell them how\n",
            "important the bill is.  If it passes, we'll all be winners.\n",
            "             \n",
            "             Good morning, and thank you for listening.\n"
          ]
        }
      ],
      "source": [
        "# Veamos similaridad de documentos. Tomemos algún documento\n",
        "idx = 4811\n",
        "print(newsgroups_train.data[idx])"
      ]
    },
    {
      "cell_type": "code",
      "execution_count": 106,
      "metadata": {
        "id": "Ssa9bqJ-hA_v"
      },
      "outputs": [],
      "source": [
        "# midamos la similaridad coseno con todos los documentos de train\n",
        "cossim = cosine_similarity(X_train[idx], X_train)[0]"
      ]
    },
    {
      "cell_type": "code",
      "execution_count": 107,
      "metadata": {
        "colab": {
          "base_uri": "https://localhost:8080/"
        },
        "id": "p_mDA7p3AzcQ",
        "outputId": "fd1cf7fe-fa1c-467a-c2f5-96a46cc2cbd8"
      },
      "outputs": [
        {
          "output_type": "execute_result",
          "data": {
            "text/plain": [
              "array([1.        , 0.70930477, 0.67474953, ..., 0.        , 0.        ,\n",
              "       0.        ])"
            ]
          },
          "metadata": {},
          "execution_count": 107
        }
      ],
      "source": [
        "# podemos ver los valores de similaridad ordenados de mayor a menos\n",
        "np.sort(cossim)[::-1]"
      ]
    },
    {
      "cell_type": "code",
      "execution_count": 108,
      "metadata": {
        "colab": {
          "base_uri": "https://localhost:8080/"
        },
        "id": "0OIhDA1jAryX",
        "outputId": "1ef1027e-6322-44f4-cac4-7adb839de62a"
      },
      "outputs": [
        {
          "output_type": "execute_result",
          "data": {
            "text/plain": [
              "array([ 4811,  6635,  4253, ...,  1534, 10055,  4750])"
            ]
          },
          "metadata": {},
          "execution_count": 108
        }
      ],
      "source": [
        "# y a qué documentos corresponden\n",
        "np.argsort(cossim)[::-1]"
      ]
    },
    {
      "cell_type": "code",
      "execution_count": 109,
      "metadata": {
        "id": "hP7qLS4ZBLps"
      },
      "outputs": [],
      "source": [
        "# los 5 documentos más similares:\n",
        "mostsim = np.argsort(cossim)[::-1][1:6]"
      ]
    },
    {
      "cell_type": "code",
      "execution_count": 110,
      "metadata": {
        "colab": {
          "base_uri": "https://localhost:8080/",
          "height": 35
        },
        "id": "QdJLHPJACvaj",
        "outputId": "10093422-74ff-493f-8589-2fb33be42de1"
      },
      "outputs": [
        {
          "output_type": "execute_result",
          "data": {
            "text/plain": [
              "'talk.politics.misc'"
            ],
            "application/vnd.google.colaboratory.intrinsic+json": {
              "type": "string"
            }
          },
          "metadata": {},
          "execution_count": 110
        }
      ],
      "source": [
        "# el documento original pertenece a la clase:\n",
        "newsgroups_train.target_names[y_train[idx]]"
      ]
    },
    {
      "cell_type": "code",
      "execution_count": 111,
      "metadata": {
        "colab": {
          "base_uri": "https://localhost:8080/"
        },
        "id": "RWy_73epCbFG",
        "outputId": "2dd7370d-6e87-459f-a100-d5800438bc9c"
      },
      "outputs": [
        {
          "output_type": "stream",
          "name": "stdout",
          "text": [
            "talk.politics.misc\n",
            "talk.politics.misc\n",
            "talk.politics.misc\n",
            "talk.politics.misc\n",
            "talk.politics.misc\n"
          ]
        }
      ],
      "source": [
        "# y los 5 más similares son de las clases:\n",
        "for i in mostsim:\n",
        "  print(newsgroups_train.target_names[y_train[i]])"
      ]
    },
    {
      "cell_type": "markdown",
      "metadata": {
        "id": "zRoNnKwhBqzq"
      },
      "source": [
        "### Modelo de clasificación Naïve Bayes"
      ]
    },
    {
      "cell_type": "code",
      "execution_count": 112,
      "metadata": {
        "colab": {
          "base_uri": "https://localhost:8080/",
          "height": 75
        },
        "id": "TPM0thDaLk0R",
        "outputId": "e3771ea6-28e8-4aa1-a3a7-6e5f2d5bcf06"
      },
      "outputs": [
        {
          "output_type": "execute_result",
          "data": {
            "text/plain": [
              "MultinomialNB()"
            ],
            "text/html": [
              "<style>#sk-container-id-3 {color: black;}#sk-container-id-3 pre{padding: 0;}#sk-container-id-3 div.sk-toggleable {background-color: white;}#sk-container-id-3 label.sk-toggleable__label {cursor: pointer;display: block;width: 100%;margin-bottom: 0;padding: 0.3em;box-sizing: border-box;text-align: center;}#sk-container-id-3 label.sk-toggleable__label-arrow:before {content: \"▸\";float: left;margin-right: 0.25em;color: #696969;}#sk-container-id-3 label.sk-toggleable__label-arrow:hover:before {color: black;}#sk-container-id-3 div.sk-estimator:hover label.sk-toggleable__label-arrow:before {color: black;}#sk-container-id-3 div.sk-toggleable__content {max-height: 0;max-width: 0;overflow: hidden;text-align: left;background-color: #f0f8ff;}#sk-container-id-3 div.sk-toggleable__content pre {margin: 0.2em;color: black;border-radius: 0.25em;background-color: #f0f8ff;}#sk-container-id-3 input.sk-toggleable__control:checked~div.sk-toggleable__content {max-height: 200px;max-width: 100%;overflow: auto;}#sk-container-id-3 input.sk-toggleable__control:checked~label.sk-toggleable__label-arrow:before {content: \"▾\";}#sk-container-id-3 div.sk-estimator input.sk-toggleable__control:checked~label.sk-toggleable__label {background-color: #d4ebff;}#sk-container-id-3 div.sk-label input.sk-toggleable__control:checked~label.sk-toggleable__label {background-color: #d4ebff;}#sk-container-id-3 input.sk-hidden--visually {border: 0;clip: rect(1px 1px 1px 1px);clip: rect(1px, 1px, 1px, 1px);height: 1px;margin: -1px;overflow: hidden;padding: 0;position: absolute;width: 1px;}#sk-container-id-3 div.sk-estimator {font-family: monospace;background-color: #f0f8ff;border: 1px dotted black;border-radius: 0.25em;box-sizing: border-box;margin-bottom: 0.5em;}#sk-container-id-3 div.sk-estimator:hover {background-color: #d4ebff;}#sk-container-id-3 div.sk-parallel-item::after {content: \"\";width: 100%;border-bottom: 1px solid gray;flex-grow: 1;}#sk-container-id-3 div.sk-label:hover label.sk-toggleable__label {background-color: #d4ebff;}#sk-container-id-3 div.sk-serial::before {content: \"\";position: absolute;border-left: 1px solid gray;box-sizing: border-box;top: 0;bottom: 0;left: 50%;z-index: 0;}#sk-container-id-3 div.sk-serial {display: flex;flex-direction: column;align-items: center;background-color: white;padding-right: 0.2em;padding-left: 0.2em;position: relative;}#sk-container-id-3 div.sk-item {position: relative;z-index: 1;}#sk-container-id-3 div.sk-parallel {display: flex;align-items: stretch;justify-content: center;background-color: white;position: relative;}#sk-container-id-3 div.sk-item::before, #sk-container-id-3 div.sk-parallel-item::before {content: \"\";position: absolute;border-left: 1px solid gray;box-sizing: border-box;top: 0;bottom: 0;left: 50%;z-index: -1;}#sk-container-id-3 div.sk-parallel-item {display: flex;flex-direction: column;z-index: 1;position: relative;background-color: white;}#sk-container-id-3 div.sk-parallel-item:first-child::after {align-self: flex-end;width: 50%;}#sk-container-id-3 div.sk-parallel-item:last-child::after {align-self: flex-start;width: 50%;}#sk-container-id-3 div.sk-parallel-item:only-child::after {width: 0;}#sk-container-id-3 div.sk-dashed-wrapped {border: 1px dashed gray;margin: 0 0.4em 0.5em 0.4em;box-sizing: border-box;padding-bottom: 0.4em;background-color: white;}#sk-container-id-3 div.sk-label label {font-family: monospace;font-weight: bold;display: inline-block;line-height: 1.2em;}#sk-container-id-3 div.sk-label-container {text-align: center;}#sk-container-id-3 div.sk-container {/* jupyter's `normalize.less` sets `[hidden] { display: none; }` but bootstrap.min.css set `[hidden] { display: none !important; }` so we also need the `!important` here to be able to override the default hidden behavior on the sphinx rendered scikit-learn.org. See: https://github.com/scikit-learn/scikit-learn/issues/21755 */display: inline-block !important;position: relative;}#sk-container-id-3 div.sk-text-repr-fallback {display: none;}</style><div id=\"sk-container-id-3\" class=\"sk-top-container\"><div class=\"sk-text-repr-fallback\"><pre>MultinomialNB()</pre><b>In a Jupyter environment, please rerun this cell to show the HTML representation or trust the notebook. <br />On GitHub, the HTML representation is unable to render, please try loading this page with nbviewer.org.</b></div><div class=\"sk-container\" hidden><div class=\"sk-item\"><div class=\"sk-estimator sk-toggleable\"><input class=\"sk-toggleable__control sk-hidden--visually\" id=\"sk-estimator-id-3\" type=\"checkbox\" checked><label for=\"sk-estimator-id-3\" class=\"sk-toggleable__label sk-toggleable__label-arrow\">MultinomialNB</label><div class=\"sk-toggleable__content\"><pre>MultinomialNB()</pre></div></div></div></div></div>"
            ]
          },
          "metadata": {},
          "execution_count": 112
        }
      ],
      "source": [
        "# es muy fácil instanciar un modelo de clasificación Naïve Bayes y entrenarlo con sklearn\n",
        "clf = MultinomialNB()\n",
        "clf.fit(X_train, y_train)"
      ]
    },
    {
      "cell_type": "code",
      "execution_count": 113,
      "metadata": {
        "id": "NrQjzM48Mu4T"
      },
      "outputs": [],
      "source": [
        "# con nuestro vectorizador ya fiteado en train, vectorizamos los textos\n",
        "# del conjunto de test\n",
        "X_test = tfidfvect.transform(newsgroups_test.data)\n",
        "y_test = newsgroups_test.target\n",
        "y_pred =  clf.predict(X_test)"
      ]
    },
    {
      "cell_type": "code",
      "execution_count": 114,
      "metadata": {
        "colab": {
          "base_uri": "https://localhost:8080/"
        },
        "id": "UkGJhetEPdA4",
        "outputId": "a9904a82-29a6-4b97-a8e6-914db4a5ba0a"
      },
      "outputs": [
        {
          "output_type": "execute_result",
          "data": {
            "text/plain": [
              "0.5854345727938506"
            ]
          },
          "metadata": {},
          "execution_count": 114
        }
      ],
      "source": [
        "# el F1-score es una metrica adecuada para reportar desempeño de modelos de claificación\n",
        "# es robusta al desbalance de clases. El promediado 'macro' es el promedio de los\n",
        "# F1-score de cada clase. El promedio 'micro' es equivalente a la accuracy que no\n",
        "# es una buena métrica cuando los datasets son desbalanceados\n",
        "f1_score(y_test, y_pred, average='macro')"
      ]
    },
    {
      "cell_type": "markdown",
      "metadata": {
        "id": "McArD4rSDR2K"
      },
      "source": [
        "## Consigna del desafío 1"
      ]
    },
    {
      "cell_type": "markdown",
      "metadata": {
        "id": "lJgf6GQIIEH1"
      },
      "source": [
        "**1**. Vectorizar documentos. Tomar 5 documentos al azar y medir similaridad con el resto de los documentos.\n",
        "Estudiar los 5 documentos más similares de cada uno analizar si tiene sentido\n",
        "la similaridad según el contenido del texto y la etiqueta de clasificación.\n",
        "\n",
        "**2**. Entrenar modelos de clasificación Naïve Bayes para maximizar el desempeño de clasificación\n",
        "(f1-score macro) en el conjunto de datos de test. Considerar cambiar parámteros\n",
        "de instanciación del vectorizador y los modelos y probar modelos de Naïve Bayes Multinomial\n",
        "y ComplementNB.\n",
        "\n",
        "**3**. Transponer la matriz documento-término. De esa manera se obtiene una matriz\n",
        "término-documento que puede ser interpretada como una colección de vectorización de palabras.\n",
        "Estudiar ahora similaridad entre palabras tomando 5 palabras y estudiando sus 5 más similares. **La elección de palabras no debe ser al azar para evitar la aparición de términos poco interpretables, elegirlas \"manualmente\"**.\n"
      ]
    },
    {
      "cell_type": "markdown",
      "source": [
        "### **1**. Vectorizar documentos. Tomar 5 documentos al azar y medir similaridad con el resto de los documentos. Estudiar los 5 documentos más similares de cada uno analizar si tiene sentido la similaridad según el contenido del texto y la etiqueta de clasificación."
      ],
      "metadata": {
        "id": "SlFlAweNbVnl"
      }
    },
    {
      "cell_type": "markdown",
      "source": [
        "Para resolver este ejercicio se reutiliza parte del código presentado en la introducción. Básicamente, se toman cinco elementos al azar del conjunto de entrenamiento y se buscan los 5 más similares para analizar cuál fue su clasificación comparada con el original."
      ],
      "metadata": {
        "id": "WxSdbWhbtils"
      }
    },
    {
      "cell_type": "code",
      "source": [
        "import random\n",
        "\n",
        "# Se setea seed para reproducibilidad de las pruebas\n",
        "random.seed(3)\n",
        "\n",
        "# Se obtienen los índices de 5 ejemplos aleatorios del conjunto de entrenamiento\n",
        "doc_indexes = random.sample(range(len(newsgroups_train.data)), 5)\n",
        "\n",
        "for line_id, idx in enumerate(doc_indexes):\n",
        "    print(f\"{'#'*20} {line_id+1} - Documento con índice {idx} {'#'*20}\")\n",
        "    print(newsgroups_train.data[idx])\n",
        "\n",
        "    # Se calcula la similaridad coseno entre el ejemplo y el resto de los documentos en entrenamiento.\n",
        "    # Se utiliza el índice '[0]' dado que estamos comparando sólo un ejemplo contra todo el resto\n",
        "    cossim = cosine_similarity(X_train[idx], X_train)[0]\n",
        "\n",
        "    # Se obtienen sólo los 5 documentos más similares a modo de ejemplo\n",
        "    mostsim = np.argsort(cossim)[::-1][1:6]\n",
        "\n",
        "    # Se muestran las clases de dichos documentos más similares\n",
        "    print(f\"{'#'*20} Clase del documento {idx} {'#'*20}\")\n",
        "    print(newsgroups_train.target_names[y_train[idx]])\n",
        "    print(f\"{'-'*10} Clases de los 5 documentos más similares {'-'*10}\")\n",
        "    for i in mostsim:\n",
        "        print(newsgroups_train.target_names[y_train[i]])\n",
        "    print(\"\\n\")"
      ],
      "metadata": {
        "colab": {
          "base_uri": "https://localhost:8080/"
        },
        "id": "lk8bR9tubhOJ",
        "outputId": "1a1c773a-d2db-4585-94f6-7748ac804752"
      },
      "execution_count": 115,
      "outputs": [
        {
          "output_type": "stream",
          "name": "stdout",
          "text": [
            "#################### 1 - Documento con índice 3898 ####################\n",
            "\tThe part about spending $5000-7000 on repairs reminds me\n",
            "of an article I read in a magazine comparing the 5 year ownership costs\n",
            "of a Toyota Camry and a Ford Taurus or something like that.  The result,\n",
            "which they announced with great flourish was that it cost the same at the\n",
            "end of the period.  That was their argument to prove that you don't go\n",
            "wrong buying the Ford Taurus over the Camry.\n",
            "\n",
            "\tNow, if I remember correctly, the Camry costs about $4000 or so more\n",
            "in initial costs.  Essentially, it means that you spend about $4000 extra\n",
            "on repairs on the Taurus.  That is ridiculous.  Every time your car\n",
            "needs repairs, it is extra hassles, loss of time and a dozen other things.\n",
            "I would much rather spend $5000 more in initial costs than spend $4000 more\n",
            "in repair costs.\n",
            "\n",
            "#################### Clase del documento 3898 ####################\n",
            "rec.autos\n",
            "---------- Clases de los 5 documentos más similares ----------\n",
            "rec.autos\n",
            "rec.autos\n",
            "rec.autos\n",
            "sci.electronics\n",
            "rec.autos\n",
            "\n",
            "\n",
            "#################### 2 - Documento con índice 9709 ####################\n",
            "First of all let's assume that you are right that fewer guns would make it \n",
            "in to the country, that sounds great (to those that see guns as inherently\n",
            "evil) except then every one  of those guns would be in the hands  of someone\n",
            "who obviously couldn't care less about following the law, after all they \n",
            "got the gun illegally, so is more likely to commit a crime with that gun.\n",
            "Great then everyone with a gun is likely to use it in a crime, nice system.\n",
            "\n",
            "Now  as to reducing the number of guns  coming into society by making it \n",
            "illegal to manufacture, sell, or import them in this coutry,  let me use\n",
            "a parallel for empiric evidence.  The amount of cocaine in this country is\n",
            "far less since its manufacture, sale, and importation was out lawwed.    If\n",
            "that last statement is true then perhaps we should consider your plan.  This \n",
            "could also apply to drugs in general.\n",
            "#################### Clase del documento 9709 ####################\n",
            "talk.politics.guns\n",
            "---------- Clases de los 5 documentos más similares ----------\n",
            "talk.politics.misc\n",
            "talk.politics.guns\n",
            "talk.politics.guns\n",
            "talk.politics.guns\n",
            "talk.politics.guns\n",
            "\n",
            "\n",
            "#################### 3 - Documento con índice 8916 ####################\n",
            "\n",
            "\n",
            "Yes, but then someone would have no problem draining your oil in a parking lot.\n",
            "\n",
            "all they have to do is reach underneath, turn a valve, and forget the trip \n",
            "home.\n",
            "But there is less likelyhood they have a wrench with them.\n",
            "\n",
            "I personally recommend, installing a 'special' locking drain plug to keep\n",
            "vandals away. :---)\n",
            "#################### Clase del documento 8916 ####################\n",
            "rec.autos\n",
            "---------- Clases de los 5 documentos más similares ----------\n",
            "rec.autos\n",
            "rec.autos\n",
            "rec.autos\n",
            "rec.autos\n",
            "rec.autos\n",
            "\n",
            "\n",
            "#################### 4 - Documento con índice 2136 ####################\n",
            "\n",
            "Not so.  Surveys have shown while the public thinks certain types\n",
            "of gun control may be acceptable they do believe they have an\n",
            "individual right to keep and bear arms, and that the police should\n",
            "not have /discretion/ over who may and may not own firearms.\n",
            "\n",
            "\n",
            "By the end of the Clinton administration a lot of things will be\n",
            "screwed up.  Hell, we'll probably be just like England.\n",
            "\n",
            "\n",
            "\"Tough titty\" ?  My how eloquent you are.\n",
            "\n",
            "As for your claim, I think Clinton has a big fight ahead of him if\n",
            "he thinks he's going to pass some comprehensive gun legislation.\n",
            "He will sign the Brady Bill if it gets to his desk.  We will do\n",
            "whatever we can to either keep that from happening, or modify it\n",
            "such that it is acceptable to us.\n",
            "\n",
            "\n",
            "Sorry, that's not possible.  And that's why we won't give them up\n",
            "either.  Legally or illegally, American's will keep their firearms.\n",
            "The number of unregistered weapons in New York City is in the millions.\n",
            "There aren't even close to that number of violent criminals there.\n",
            "\n",
            "\n",
            "If the gov't was serious about stopping violent crime they would\n",
            "keep violent criminals in jail for a long long time where they\n",
            "belong instead of letting them out on early release.\n",
            "\n",
            "\n",
            "Hey, we can go into politics too if we feel like it.\n",
            "\n",
            "\n",
            "I don't believe this one bit.\n",
            "\n",
            "\n",
            "Snore.  Like I take advice on the RKBA from a Brit.  No way.\n",
            "\n",
            "\n",
            "You watch too much \"Star Trek\".  Actually, this is an understandable\n",
            "attitude from a Brit; you are a subject of the state.\n",
            "\n",
            "\n",
            "Not necessarily.  There are ways of resisting oppression without\n",
            "getting caught by the gov't.\n",
            "\n",
            "\n",
            "The \"abstract criminal\" like the ones who killed a relative of mine\n",
            "while she was working in a carry-out.\n",
            "\n",
            "\n",
            "While undesirable, they are sometimes unavoidable.  If you don't want\n",
            "to resist a criminal attack by all means do nothing.  I will (a) take\n",
            "my chances resisting violent attack, and (b) stand a better chance of\n",
            "being unharmed than someone who does nothing.\n",
            "\n",
            "\n",
            "What a joke.  Criminals want a disarmed population.  How can you keep\n",
            "criminals from preying on us after our best means of self defense is\n",
            "taken away ?\n",
            "#################### Clase del documento 2136 ####################\n",
            "talk.politics.guns\n",
            "---------- Clases de los 5 documentos más similares ----------\n",
            "talk.politics.mideast\n",
            "talk.politics.guns\n",
            "talk.politics.guns\n",
            "talk.politics.guns\n",
            "talk.politics.mideast\n",
            "\n",
            "\n",
            "#################### 5 - Documento con índice 6061 ####################\n",
            ":\n",
            " (lots of stuff about the Nicene Creed deleted which can be read in the\n",
            "  original basenote.  I will also leave it up to other LDS netters to\n",
            "  take Mr. Weiss to task on using Mormon Doctrine to declare the difinitive\n",
            "  word on what the LDS Church teaches as doctrine.  Hopefully the LDS \n",
            "  netters will be amiable in their explanation.)\n",
            "\n",
            "Since it would do no good to rebut what Mr. Weiss has stated on the origin\n",
            "of the Nicene Creed and its status as devine and inspired (I say \"no good\"\n",
            "because it cannot be proved through discussion or debate as to whether or not \n",
            "the authors of the Creed were inspired), I leave you (it will be some time \n",
            "before I post again) with the following thought authored by Eugene England, \n",
            "Professor of English at Brigham Young University.  Mr. England wrote the \n",
            "following as part of a book review section in This People's magazine (Spring \n",
            "1993 edition):\n",
            "\n",
            "  \"I conclude with a little sermon because I believe we will not be a Mormon--\n",
            "  or human--family until we can get over labeling and rejecting each other \n",
            "  with terms like feminist or patriarchal, liberal or conservative (Christian \n",
            "  or non-Christian -- Hal 8^).  When we are tempted to draw a circle around\n",
            "  a set of beliefs and traditions and styles and call it American, then exclude\n",
            "  those who don't fit, it may be well to consider that perhaps the most central\n",
            "  defining characteristic of a good American might be \"one who doesn't draw\n",
            "  exclusive circles\" -- that the surest way of excluding ourselves from the \n",
            "  central American ideal is by excluding others.  And when we are tempted to\n",
            "  draw a circle around \"Mormon\" or \"Christian,\" to decide who is \"orthodox\"\n",
            "  and who isn't by how much they agree with us, it might be well to consider\n",
            "  that the central pillar of Christ's \"orthodoxy\" is our ability to love\n",
            "  unconditionally those who are different and include them in our family.\n",
            "\n",
            "  \"I recently spent some time in a \"Christian\" bookstore in California. The\n",
            "  service was excellent, the clerks and customers all smiling, neat, and\n",
            "  well-scrubbed, and there were the expected wholesome offerings of scriptural\n",
            "  commentaries, sentimental fiction, and collections of evangelistic sermons.\n",
            "  But I was dismayed to find how much shelf space was given to attacking \n",
            "  others, often viciously---whether the political left, our modern American\n",
            "  culture, or other religions.  A whole section was devoted to \"Cults and the\n",
            "  Occult,\" and as you might expect, Mormonism was right there under the same\n",
            "  rubric and indictment (often by the same authors) as Satanism.  And I found\n",
            "  I could either rent or buy (in English or Spanish) copies of The God Makers\n",
            "  (that absurdly inaccurate, even libelous, but very popular and dangerous\n",
            "  anti-Mormon film that uses exaclty the same techniques and even accusations\n",
            "  of the Nazi films that scapegoated Jews in the 1930s).\n",
            "\n",
            "  \"It seems to me one major indication that a person is a genuine convert to\n",
            "  Christ and his redemptive love is his lack of paranoia and anxiety (\"Perfect\n",
            "  love casteth out fear,\" I John 4:18).  I have always been pleased that the\n",
            "  LDS Church has not engaged in attacks on other faiths, though I find a \n",
            "  disheartening increase in willingness of individual Mormons to engage in the\n",
            "  same kinds of stereotyping and scapegoating---and even threats of coercive\n",
            "  action---as the \"religious right wing\" has launched this year against the\n",
            "  political left and American cultural and religious styles they don't like.\n",
            "  It is a fearful irony that in so doing Mormons take common cause with the\n",
            "  very people who have most slanderously attacked Mormons---people who would,\n",
            "  if they had power, forcefully restrict Mormons' rights along with those of\n",
            "  others they believe to be evil.\"\n",
            "\n",
            "\n",
            "The above \"sermon\" was addressed to the LDS audience who usually subscribe\n",
            "to This People's magazine, but would certainly apply to all of us who\n",
            "rely on the mercies and grace of Jesus Christ to bring us back into His\n",
            "arms.  \n",
            "\n",
            "Even though the LDS Church claims devine authority to exercise the principles \n",
            "of the restored gospel---as in the days of Christ, the Church does not claim \n",
            "perfection and infallibility in how those with authoritative status have or do \n",
            "now lead the Church.  I, for one, do not wish to be labelled \"Christian\", if \n",
            "those who profess themselves as Christians attack my beliefs because they are \n",
            "intollerent (for example) of the way my religion may interpret Biblical \n",
            "scriptures of the same source to have a different meaning and implication \n",
            "than mainstream Christianity would give it.  Once again, being in the \n",
            "majority does NOT in and of itself PROVE anything except that your collective \n",
            "voice is louder.  That's really all the critics of the LDS Church have to stand\n",
            "on in terms of the kind of Biblical interpretation used as proof to counter \n",
            "the LDS Church' interpretation!  Using someone elses biased research of truths \n",
            "and non-truths (whose to say what the mixture is?) as an authoritative tool to \n",
            "disprove or discredit is not being fair to anyone, least of all themselves. \n",
            "Let us simply agree to disagree, and share beliefs through adult discussion \n",
            "and conversation, thereby uplifting everyone.  \n",
            "\n",
            "#################### Clase del documento 6061 ####################\n",
            "talk.religion.misc\n",
            "---------- Clases de los 5 documentos más similares ----------\n",
            "talk.religion.misc\n",
            "talk.religion.misc\n",
            "talk.religion.misc\n",
            "alt.atheism\n",
            "talk.politics.guns\n",
            "\n",
            "\n"
          ]
        }
      ]
    },
    {
      "cell_type": "markdown",
      "source": [
        "Por lo general, se puee observar que los documentos más similares tienden a pertenecer a la misma categoría del documento original. Esto tiene sentido, ya que la similaridad coseno mide qué tan cercanos son los vectores que representan estos documentos.\n",
        "\n",
        "De todas formas es importante tener en cuenta que esta medida depende fuertemente del método de vectorización utilizado y que es posible (con menor probabilidad) encontrar documentos con alta similaridad coseno que en realidad traten temas diferentes."
      ],
      "metadata": {
        "id": "IxA6_5JkvKvX"
      }
    },
    {
      "cell_type": "markdown",
      "source": [
        "#### **2**. Entrenar modelos de clasificación Naïve Bayes para maximizar el desempeño de clasificación (f1-score macro) en el conjunto de datos de test. Considerar cambiar parámteros de instanciación del vectorizador y los modelos y probar modelos de Naïve Bayes Multinomial y ComplementNB."
      ],
      "metadata": {
        "id": "qtuwSeWLgVv4"
      }
    },
    {
      "cell_type": "markdown",
      "source": [
        "Para resolver este ejercicio se inicializará la clase TfidfVectorizer variando los siguientes hiperparámetros que podrían tener efectos significativos en la clasificación:\n",
        "\n",
        "- **max_df** ***(maximum document frequency)***: Umbral superior de frecuencia de documentos.\n",
        "- **min_df** ***(minimum document frequency)***: Umbral inferior de frecuencia de documentos.\n",
        "- **ngram_range_values**: Define el rango de n-gramas que utilizará el vectorizador.\n",
        "\n",
        "Además, también se incluyó el parámetro *alpha* que utilizan los clasificadores MultinomialNB y ComplementNB para determinar si se incluye *smoothing* de Laplace (valor 1.0) o Lidstone (distinto de 1.0). Su principal función es evitar problemas relacionados con palabras que no aparecen en ningún documento y así \"suavizar\" las probabilidades.\n",
        "\n",
        "Para el tuneo de los hiperparamétros de realizará una búsqueda en grilla (*Grid Search*). Dado que es un caso simple, no se utilizará ninguna librería externa para el proceso."
      ],
      "metadata": {
        "id": "Yrbq3fMRlA50"
      }
    },
    {
      "cell_type": "code",
      "source": [
        "# Tuneo de parámetros de TfidfVectorizer\n",
        "max_df_values = [0.8, 0.9]\n",
        "min_df_values = [1, 10, 20]\n",
        "ngram_range_values = [(1, 2), (1, 3)]\n",
        "alpha_values = [0.1, 0.5, 1.0]\n",
        "\n",
        "best_f1_score = 0\n",
        "best_params = {}\n",
        "\n",
        "for max_df in max_df_values:\n",
        "    for min_df in min_df_values:\n",
        "        for ngram_range in ngram_range_values:\n",
        "            for alpha in alpha_values:\n",
        "\n",
        "              # Se instancia el vectorizador con los parámetros actuales\n",
        "              tfidfvect_new = TfidfVectorizer(max_df=max_df, min_df=min_df, ngram_range=ngram_range)\n",
        "              X_train_new = tfidfvect_new.fit_transform(newsgroups_train.data)\n",
        "              X_test_new = tfidfvect_new.transform(newsgroups_test.data)\n",
        "\n",
        "              # Se entrena el modelo MultinomialNB\n",
        "              clf_multiNB = MultinomialNB(alpha=alpha)\n",
        "              clf_multiNB.fit(X_train_new, y_train)\n",
        "              y_pred_multiNB = clf_multiNB.predict(X_test_new)\n",
        "              f1_score_multiNB = f1_score(y_test, y_pred_multiNB, average='macro')\n",
        "              print(f\"F1-score (macro) con MultinomialNB y parámetros: max_df={max_df}, min_df={min_df}, ngram_range={ngram_range}, alpha={alpha}: {f1_score_multiNB}\")\n",
        "\n",
        "              # Se entrena el modelo ComplementNB\n",
        "              clf_complNB = ComplementNB(alpha=alpha)\n",
        "              clf_complNB.fit(X_train_new, y_train)\n",
        "              y_pred_complNB = clf_complNB.predict(X_test_new)\n",
        "              f1_score_complNB = f1_score(y_test, y_pred_complNB, average='macro')\n",
        "              print(f\"F1-score (macro) con ComplementNB y parámetros: max_df={max_df}, min_df={min_df}, ngram_range={ngram_range}, alpha={alpha}: {f1_score_complNB}\")\n",
        "\n",
        "              if f1_score_multiNB > best_f1_score:\n",
        "                  best_f1_score = f1_score_multiNB\n",
        "                  best_params = {'max_df': max_df, 'min_df': min_df, 'ngram_range': ngram_range, 'model': 'MultinomialNB', 'alpha': alpha}\n",
        "              if f1_score_complNB > best_f1_score:\n",
        "                  best_f1_score = f1_score_complNB\n",
        "                  best_params = {'max_df': max_df, 'min_df': min_df, 'ngram_range': ngram_range, 'model': 'ComplementNB', 'alpha': alpha}\n",
        "\n",
        "print(f\"Mejores parámetros: {best_params}\")\n",
        "print(f\"Mejor F1-score: {best_f1_score}\")"
      ],
      "metadata": {
        "colab": {
          "base_uri": "https://localhost:8080/"
        },
        "id": "ouF-3O6xlnzZ",
        "outputId": "d7b73f63-e2a4-4119-8db5-72ef0eae2561"
      },
      "execution_count": 116,
      "outputs": [
        {
          "output_type": "stream",
          "name": "stdout",
          "text": [
            "F1-score (macro) con MultinomialNB y parámetros: max_df=0.8, min_df=1, ngram_range=(1, 2), alpha=0.1: 0.6229617848305139\n",
            "F1-score (macro) con ComplementNB y parámetros: max_df=0.8, min_df=1, ngram_range=(1, 2), alpha=0.1: 0.7061737066021505\n",
            "F1-score (macro) con MultinomialNB y parámetros: max_df=0.8, min_df=1, ngram_range=(1, 2), alpha=0.5: 0.5736660169567053\n",
            "F1-score (macro) con ComplementNB y parámetros: max_df=0.8, min_df=1, ngram_range=(1, 2), alpha=0.5: 0.6925182378837313\n",
            "F1-score (macro) con MultinomialNB y parámetros: max_df=0.8, min_df=1, ngram_range=(1, 2), alpha=1.0: 0.5430237308915067\n",
            "F1-score (macro) con ComplementNB y parámetros: max_df=0.8, min_df=1, ngram_range=(1, 2), alpha=1.0: 0.6816487615044463\n",
            "F1-score (macro) con MultinomialNB y parámetros: max_df=0.8, min_df=1, ngram_range=(1, 3), alpha=0.1: 0.6063331842718382\n",
            "F1-score (macro) con ComplementNB y parámetros: max_df=0.8, min_df=1, ngram_range=(1, 3), alpha=0.1: 0.6917872351757025\n",
            "F1-score (macro) con MultinomialNB y parámetros: max_df=0.8, min_df=1, ngram_range=(1, 3), alpha=0.5: 0.5556443770685132\n",
            "F1-score (macro) con ComplementNB y parámetros: max_df=0.8, min_df=1, ngram_range=(1, 3), alpha=0.5: 0.6791599211396553\n",
            "F1-score (macro) con MultinomialNB y parámetros: max_df=0.8, min_df=1, ngram_range=(1, 3), alpha=1.0: 0.5265132381575692\n",
            "F1-score (macro) con ComplementNB y parámetros: max_df=0.8, min_df=1, ngram_range=(1, 3), alpha=1.0: 0.6716438080514988\n",
            "F1-score (macro) con MultinomialNB y parámetros: max_df=0.8, min_df=10, ngram_range=(1, 2), alpha=0.1: 0.6413540051930264\n",
            "F1-score (macro) con ComplementNB y parámetros: max_df=0.8, min_df=10, ngram_range=(1, 2), alpha=0.1: 0.6679869334603548\n",
            "F1-score (macro) con MultinomialNB y parámetros: max_df=0.8, min_df=10, ngram_range=(1, 2), alpha=0.5: 0.610813968402919\n",
            "F1-score (macro) con ComplementNB y parámetros: max_df=0.8, min_df=10, ngram_range=(1, 2), alpha=0.5: 0.6693671910383909\n",
            "F1-score (macro) con MultinomialNB y parámetros: max_df=0.8, min_df=10, ngram_range=(1, 2), alpha=1.0: 0.5814780831924922\n",
            "F1-score (macro) con ComplementNB y parámetros: max_df=0.8, min_df=10, ngram_range=(1, 2), alpha=1.0: 0.6695493937143158\n",
            "F1-score (macro) con MultinomialNB y parámetros: max_df=0.8, min_df=10, ngram_range=(1, 3), alpha=0.1: 0.6312921916394328\n",
            "F1-score (macro) con ComplementNB y parámetros: max_df=0.8, min_df=10, ngram_range=(1, 3), alpha=0.1: 0.6623482556232245\n",
            "F1-score (macro) con MultinomialNB y parámetros: max_df=0.8, min_df=10, ngram_range=(1, 3), alpha=0.5: 0.6005704445408391\n",
            "F1-score (macro) con ComplementNB y parámetros: max_df=0.8, min_df=10, ngram_range=(1, 3), alpha=0.5: 0.6629101022816737\n",
            "F1-score (macro) con MultinomialNB y parámetros: max_df=0.8, min_df=10, ngram_range=(1, 3), alpha=1.0: 0.5760136344132472\n",
            "F1-score (macro) con ComplementNB y parámetros: max_df=0.8, min_df=10, ngram_range=(1, 3), alpha=1.0: 0.6623919916622385\n",
            "F1-score (macro) con MultinomialNB y parámetros: max_df=0.8, min_df=20, ngram_range=(1, 2), alpha=0.1: 0.6180913373918844\n",
            "F1-score (macro) con ComplementNB y parámetros: max_df=0.8, min_df=20, ngram_range=(1, 2), alpha=0.1: 0.6358611683499164\n",
            "F1-score (macro) con MultinomialNB y parámetros: max_df=0.8, min_df=20, ngram_range=(1, 2), alpha=0.5: 0.5983878049269495\n",
            "F1-score (macro) con ComplementNB y parámetros: max_df=0.8, min_df=20, ngram_range=(1, 2), alpha=0.5: 0.6365835161665886\n",
            "F1-score (macro) con MultinomialNB y parámetros: max_df=0.8, min_df=20, ngram_range=(1, 2), alpha=1.0: 0.5803123248826043\n",
            "F1-score (macro) con ComplementNB y parámetros: max_df=0.8, min_df=20, ngram_range=(1, 2), alpha=1.0: 0.6386433313121235\n",
            "F1-score (macro) con MultinomialNB y parámetros: max_df=0.8, min_df=20, ngram_range=(1, 3), alpha=0.1: 0.6072360177818333\n",
            "F1-score (macro) con ComplementNB y parámetros: max_df=0.8, min_df=20, ngram_range=(1, 3), alpha=0.1: 0.6336753733919009\n",
            "F1-score (macro) con MultinomialNB y parámetros: max_df=0.8, min_df=20, ngram_range=(1, 3), alpha=0.5: 0.5898969331896631\n",
            "F1-score (macro) con ComplementNB y parámetros: max_df=0.8, min_df=20, ngram_range=(1, 3), alpha=0.5: 0.6343527194019761\n",
            "F1-score (macro) con MultinomialNB y parámetros: max_df=0.8, min_df=20, ngram_range=(1, 3), alpha=1.0: 0.5718396920708697\n",
            "F1-score (macro) con ComplementNB y parámetros: max_df=0.8, min_df=20, ngram_range=(1, 3), alpha=1.0: 0.6344407845264535\n",
            "F1-score (macro) con MultinomialNB y parámetros: max_df=0.9, min_df=1, ngram_range=(1, 2), alpha=0.1: 0.6220682060555511\n",
            "F1-score (macro) con ComplementNB y parámetros: max_df=0.9, min_df=1, ngram_range=(1, 2), alpha=0.1: 0.7058374784034724\n",
            "F1-score (macro) con MultinomialNB y parámetros: max_df=0.9, min_df=1, ngram_range=(1, 2), alpha=0.5: 0.571088239145651\n",
            "F1-score (macro) con ComplementNB y parámetros: max_df=0.9, min_df=1, ngram_range=(1, 2), alpha=0.5: 0.6922295046328111\n",
            "F1-score (macro) con MultinomialNB y parámetros: max_df=0.9, min_df=1, ngram_range=(1, 2), alpha=1.0: 0.5398024946338422\n",
            "F1-score (macro) con ComplementNB y parámetros: max_df=0.9, min_df=1, ngram_range=(1, 2), alpha=1.0: 0.6816839649266335\n",
            "F1-score (macro) con MultinomialNB y parámetros: max_df=0.9, min_df=1, ngram_range=(1, 3), alpha=0.1: 0.605410691535206\n",
            "F1-score (macro) con ComplementNB y parámetros: max_df=0.9, min_df=1, ngram_range=(1, 3), alpha=0.1: 0.6914189229930898\n",
            "F1-score (macro) con MultinomialNB y parámetros: max_df=0.9, min_df=1, ngram_range=(1, 3), alpha=0.5: 0.5521446833717057\n",
            "F1-score (macro) con ComplementNB y parámetros: max_df=0.9, min_df=1, ngram_range=(1, 3), alpha=0.5: 0.6789923434443061\n",
            "F1-score (macro) con MultinomialNB y parámetros: max_df=0.9, min_df=1, ngram_range=(1, 3), alpha=1.0: 0.5209962730048036\n",
            "F1-score (macro) con ComplementNB y parámetros: max_df=0.9, min_df=1, ngram_range=(1, 3), alpha=1.0: 0.6711590771426122\n",
            "F1-score (macro) con MultinomialNB y parámetros: max_df=0.9, min_df=10, ngram_range=(1, 2), alpha=0.1: 0.6416596552861422\n",
            "F1-score (macro) con ComplementNB y parámetros: max_df=0.9, min_df=10, ngram_range=(1, 2), alpha=0.1: 0.6677277005287594\n",
            "F1-score (macro) con MultinomialNB y parámetros: max_df=0.9, min_df=10, ngram_range=(1, 2), alpha=0.5: 0.6103751614025166\n",
            "F1-score (macro) con ComplementNB y parámetros: max_df=0.9, min_df=10, ngram_range=(1, 2), alpha=0.5: 0.6692976731957727\n",
            "F1-score (macro) con MultinomialNB y parámetros: max_df=0.9, min_df=10, ngram_range=(1, 2), alpha=1.0: 0.5803033215230659\n",
            "F1-score (macro) con ComplementNB y parámetros: max_df=0.9, min_df=10, ngram_range=(1, 2), alpha=1.0: 0.6696962222696385\n",
            "F1-score (macro) con MultinomialNB y parámetros: max_df=0.9, min_df=10, ngram_range=(1, 3), alpha=0.1: 0.6306116776496854\n",
            "F1-score (macro) con ComplementNB y parámetros: max_df=0.9, min_df=10, ngram_range=(1, 3), alpha=0.1: 0.6619444530530428\n",
            "F1-score (macro) con MultinomialNB y parámetros: max_df=0.9, min_df=10, ngram_range=(1, 3), alpha=0.5: 0.5998900918482567\n",
            "F1-score (macro) con ComplementNB y parámetros: max_df=0.9, min_df=10, ngram_range=(1, 3), alpha=0.5: 0.6630317887214793\n",
            "F1-score (macro) con MultinomialNB y parámetros: max_df=0.9, min_df=10, ngram_range=(1, 3), alpha=1.0: 0.5727000791535036\n",
            "F1-score (macro) con ComplementNB y parámetros: max_df=0.9, min_df=10, ngram_range=(1, 3), alpha=1.0: 0.6624861845217547\n",
            "F1-score (macro) con MultinomialNB y parámetros: max_df=0.9, min_df=20, ngram_range=(1, 2), alpha=0.1: 0.6181532544358863\n",
            "F1-score (macro) con ComplementNB y parámetros: max_df=0.9, min_df=20, ngram_range=(1, 2), alpha=0.1: 0.636142122507197\n",
            "F1-score (macro) con MultinomialNB y parámetros: max_df=0.9, min_df=20, ngram_range=(1, 2), alpha=0.5: 0.5975130791935338\n",
            "F1-score (macro) con ComplementNB y parámetros: max_df=0.9, min_df=20, ngram_range=(1, 2), alpha=0.5: 0.6364497294447891\n",
            "F1-score (macro) con MultinomialNB y parámetros: max_df=0.9, min_df=20, ngram_range=(1, 2), alpha=1.0: 0.5778064661333718\n",
            "F1-score (macro) con ComplementNB y parámetros: max_df=0.9, min_df=20, ngram_range=(1, 2), alpha=1.0: 0.6381034514907106\n",
            "F1-score (macro) con MultinomialNB y parámetros: max_df=0.9, min_df=20, ngram_range=(1, 3), alpha=0.1: 0.606452201771901\n",
            "F1-score (macro) con ComplementNB y parámetros: max_df=0.9, min_df=20, ngram_range=(1, 3), alpha=0.1: 0.6339373912292838\n",
            "F1-score (macro) con MultinomialNB y parámetros: max_df=0.9, min_df=20, ngram_range=(1, 3), alpha=0.5: 0.5891250526478096\n",
            "F1-score (macro) con ComplementNB y parámetros: max_df=0.9, min_df=20, ngram_range=(1, 3), alpha=0.5: 0.6345468802404557\n",
            "F1-score (macro) con MultinomialNB y parámetros: max_df=0.9, min_df=20, ngram_range=(1, 3), alpha=1.0: 0.570750618982804\n",
            "F1-score (macro) con ComplementNB y parámetros: max_df=0.9, min_df=20, ngram_range=(1, 3), alpha=1.0: 0.6341635769148078\n",
            "Mejores parámetros: {'max_df': 0.8, 'min_df': 1, 'ngram_range': (1, 2), 'model': 'ComplementNB', 'alpha': 0.1}\n",
            "Mejor F1-score: 0.7061737066021505\n"
          ]
        }
      ]
    },
    {
      "cell_type": "markdown",
      "source": [
        "Luego de realizada la búsqueda de hiperparámetros, se obtuvo el mejor resultado con la siguiente configuración:\n",
        "\n",
        "- Modelo: ComplementNB\n",
        "- min_df: 1\n",
        "- max_df: 0.8\n",
        "- ngram_range: (1, 2)\n",
        "- alpha: 0.1\n",
        "\n",
        "El F1-score obtenido fue de ~0.706, el cual mejora el valor original de ~0.585. Notar que el modelo que mejores resultados dio fue ComplementNB, que mejora el rendimiento en situaciones en que las clases están desequilibradas. Para validar si estamos en esa situación a continuación se muestran los histogramas para entrenamiento y test."
      ],
      "metadata": {
        "id": "V-k4m7bE2Uva"
      }
    },
    {
      "cell_type": "code",
      "source": [
        "import matplotlib.pyplot as plt\n",
        "\n",
        "# Se calculan los histogramas para entrenamiento y test\n",
        "train_hist = np.histogram(y_train, bins=range(len(newsgroups_train.target_names) + 1))\n",
        "test_hist = np.histogram(y_test, bins=range(len(newsgroups_test.target_names) + 1))\n",
        "\n",
        "# Se grafican los histogramas\n",
        "fig, axes = plt.subplots(1, 2, figsize=(15, 5))\n",
        "\n",
        "# Histograma de entrenamiento\n",
        "axes[0].bar(train_hist[1][:-1], train_hist[0])\n",
        "axes[0].set_xticks(train_hist[1][:-1])\n",
        "axes[0].set_xticklabels(newsgroups_train.target_names, rotation=90)\n",
        "axes[0].set_title('Histograma de clases - Entrenamiento')\n",
        "axes[0].set_xlabel('Clases')\n",
        "axes[0].set_ylabel('Frecuencia')\n",
        "\n",
        "# Histograma de test\n",
        "axes[1].bar(test_hist[1][:-1], test_hist[0])\n",
        "axes[1].set_xticks(test_hist[1][:-1])\n",
        "axes[1].set_xticklabels(newsgroups_test.target_names, rotation=90)\n",
        "axes[1].set_title('Histograma de clases - Test')\n",
        "axes[1].set_xlabel('Clases')\n",
        "axes[1].set_ylabel('Frecuencia')\n",
        "\n",
        "plt.tight_layout()\n",
        "plt.show()"
      ],
      "metadata": {
        "colab": {
          "base_uri": "https://localhost:8080/",
          "height": 507
        },
        "id": "Z1wwPowm7heC",
        "outputId": "216ed6d7-a751-48ad-b60a-d194078420df"
      },
      "execution_count": 117,
      "outputs": [
        {
          "output_type": "display_data",
          "data": {
            "text/plain": [
              "<Figure size 1500x500 with 2 Axes>"
            ],
            "image/png": "[encoded data removed]"
          },
          "metadata": {}
        }
      ]
    },
    {
      "cell_type": "markdown",
      "source": [
        "Tal como se aprecia, si bien por lo general hay una buena distribución de las clases, hay algunos clases que notoriamente presentan menos datos, como por ejemplo *talk.religion.misc*. Es tal vez por este motivo que *ComplementNB* presenta mejores métricas que *MultinomialNB*."
      ],
      "metadata": {
        "id": "QOluJ1hX77Zp"
      }
    },
    {
      "cell_type": "markdown",
      "source": [
        "#### **3**. Transponer la matriz documento-término. De esa manera se obtiene una matriz término-documento que puede ser interpretada como una colección de vectorización de palabras. Estudiar ahora similaridad entre palabras tomando 5 palabras y estudiando sus 5 más similares. **La elección de palabras no debe ser al azar para evitar la aparición de términos poco interpretables, elegirlas \"manualmente\"**."
      ],
      "metadata": {
        "id": "h62t95Z-gZ2_"
      }
    },
    {
      "cell_type": "code",
      "source": [
        "# Se transpone la matriz documento-término\n",
        "X_train_transpose = X_train.transpose()\n",
        "X_train_transpose"
      ],
      "metadata": {
        "colab": {
          "base_uri": "https://localhost:8080/"
        },
        "id": "PyvxzNy_prrV",
        "outputId": "c7989f23-e08e-46be-fe6c-80f4992e3fb0"
      },
      "execution_count": 118,
      "outputs": [
        {
          "output_type": "execute_result",
          "data": {
            "text/plain": [
              "<101631x11314 sparse matrix of type '<class 'numpy.float64'>'\n",
              "\twith 1103627 stored elements in Compressed Sparse Column format>"
            ]
          },
          "metadata": {},
          "execution_count": 118
        }
      ]
    },
    {
      "cell_type": "code",
      "source": [
        "# Se definen las palabras a analizar\n",
        "palabras = ['floppy', 'nuclear', 'game', 'windows', 'god']\n",
        "\n",
        "# Se itera sobre las palabras\n",
        "for palabra in palabras:\n",
        "    # Se obtiene el índice de la palabra en el vocabulario\n",
        "    idx_palabra = tfidfvect.vocabulary_[palabra]\n",
        "\n",
        "    # Se calcula la similaridad coseno entre la palabra y el resto de las palabras\n",
        "    cossim_palabras = cosine_similarity(X_train_transpose[idx_palabra], X_train_transpose)[0]\n",
        "\n",
        "    # Se obtienen las 5 palabras más similares\n",
        "    mostsim_palabras = np.argsort(cossim_palabras)[::-1][1:6]\n",
        "\n",
        "    # Se muestran las palabras más similares\n",
        "    print(f\"{'#'*20} {palabra} {'#'*20}\")\n",
        "    for i in mostsim_palabras:\n",
        "        print(idx2word[i])\n",
        "    print(\"\\n\")"
      ],
      "metadata": {
        "colab": {
          "base_uri": "https://localhost:8080/"
        },
        "id": "ZaTe-MZfsr6b",
        "outputId": "6b78cd69-9aa0-4986-e6cc-4be2b0ca1243"
      },
      "execution_count": 119,
      "outputs": [
        {
          "output_type": "stream",
          "name": "stdout",
          "text": [
            "#################### floppy ####################\n",
            "drive\n",
            "disk\n",
            "floppies\n",
            "drives\n",
            "kludge\n",
            "\n",
            "\n",
            "#################### nuclear ####################\n",
            "plants\n",
            "towers\n",
            "reactor\n",
            "fossil\n",
            "radioactives\n",
            "\n",
            "\n",
            "#################### game ####################\n",
            "games\n",
            "espn\n",
            "hockey\n",
            "team\n",
            "scored\n",
            "\n",
            "\n",
            "#################### windows ####################\n",
            "dos\n",
            "ms\n",
            "microsoft\n",
            "nt\n",
            "for\n",
            "\n",
            "\n",
            "#################### god ####################\n",
            "jesus\n",
            "bible\n",
            "that\n",
            "existence\n",
            "christ\n",
            "\n",
            "\n"
          ]
        }
      ]
    },
    {
      "cell_type": "markdown",
      "source": [
        "Los resultados reflejan que las palabras seleccionadas comparten contextos comunes con las palabras que se les encuentran más similares. Esto resultado se da por cómo el TF-IDF vectoriza los términos y cómo la similaridad coseno identifica términos que suelen aparecer en contextos similares dentro de los documentos analizados. Para que los resultados fuesen más notorios se eligieron palabras que tengan un significado poco ambiguo y se evitaron utilizar términos que son comunes a todos los documentos."
      ],
      "metadata": {
        "id": "gU30wM8K8zqf"
      }
    },
    {
      "cell_type": "markdown",
      "source": [
        "El código que se muestra a continuación se utilizó para analizar los contextos en los que se presentaban las palabras más similares. Se muestra sólo un ejemplo a modo ilustrativo."
      ],
      "metadata": {
        "id": "RSe0bxsqCQHS"
      }
    },
    {
      "cell_type": "code",
      "source": [
        "# Función auxiliar que se utilizó para buscar palabras poco comunes en su contexto\n",
        "def get_document_by_word(word, data):\n",
        "    for i, document in enumerate(data):\n",
        "        if word.lower() in document.lower():\n",
        "            return document\n",
        "    return None"
      ],
      "metadata": {
        "id": "4FwUxjNS0DRV"
      },
      "execution_count": 120,
      "outputs": []
    },
    {
      "cell_type": "code",
      "source": [
        "word_to_find = \"kludge\"\n",
        "document_with_word = get_document_by_word(word_to_find, newsgroups_train.data)\n",
        "\n",
        "if document_with_word:\n",
        "    print(f\"Documento que contiene la palabra '{word_to_find}':\\n{document_with_word}\")\n",
        "else:\n",
        "    print(f\"No se encontró ningún documento que contenga la palabra '{word_to_find}'.\")\n"
      ],
      "metadata": {
        "colab": {
          "base_uri": "https://localhost:8080/"
        },
        "id": "lLrdDMNOz94v",
        "outputId": "ebe663f7-b944-4dfa-cf8e-1180ec3d7caa"
      },
      "execution_count": 121,
      "outputs": [
        {
          "output_type": "stream",
          "name": "stdout",
          "text": [
            "Documento que contiene la palabra 'kludge':\n",
            "Is there a fast 'n dirty way to kill the line spiking that occurs when\n",
            "an inductive load is turned on sometime other than at zero-crossing of\n",
            "the AC cycle?  A capacitor kludged in somehow, etc?\n",
            "\n",
            "I've got a microcontroller that is running a bunch of valves and pumps\n",
            "in a big instrument washer, and almost everything is being switched with\n",
            "zero-crossing solid state relays, so that stuff stays \"quiet\", AC-wise.\n",
            "But there's one steam valve that gets turned on by a mechanical relay\n",
            "in the water tank fill/thermostat system, and it's not under control\n",
            "of my SSRs, and it does sometimes generate/radiate a spike that resets\n",
            "one of my peripheral chips.  My software times out and tries again, but\n",
            "I'd love to just tack in a magic spike-killing fix that would avoid having\n",
            "to do some major rewiring/redesign.  A varistor would help but might not\n",
            "be sufficient.  Ideas?\n",
            "\n"
          ]
        }
      ]
    }
  ],
  "metadata": {
    "colab": {
      "provenance": []
    },
    "kernelspec": {
      "display_name": "Python 3",
      "name": "python3"
    },
    "language_info": {
      "name": "python"
    }
  },
  "nbformat": 4,
  "nbformat_minor": 0
}