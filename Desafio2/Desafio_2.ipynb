{
  "cells": [
    {
      "cell_type": "markdown",
      "metadata": {
        "id": "sZd5yLnnHOK0"
      },
      "source": [
        "<img src=\"https://github.com/hernancontigiani/ceia_memorias_especializacion/raw/master/Figures/logoFIUBA.jpg\" width=\"500\" align=\"center\">\n",
        "\n",
        "\n",
        "# Procesamiento de lenguaje natural\n",
        "## Custom embedddings con Gensim\n",
        "\n"
      ]
    },
    {
      "cell_type": "markdown",
      "metadata": {
        "id": "vA7nqkumo9z9"
      },
      "source": [
        "### Objetivo\n",
        "\n",
        "El presente notebook corresponde al desafío N°2 del curso de Procesamiento del Lenguaje Natural. Está basado fuertemente en el material presentado en clase, con algunas diferecias ya que se utilizará un corpus diferente. En resumen, la tarea consiste en:\n",
        "\n",
        "- Crear sus propios vectores con Gensim basado en lo visto en clase con otro dataset.\n",
        "- Probar términos de interés y explicar similitudes en el espacio de embeddings (sacar conclusiones entre palabras similitudes y diferencias).\n",
        "- Graficarlos.\n",
        "- Obtener conclusiones."
      ]
    },
    {
      "cell_type": "code",
      "execution_count": 80,
      "metadata": {
        "id": "lFToQs5FK5uZ"
      },
      "outputs": [],
      "source": [
        "# Se importan los módulos necesarios\n",
        "\n",
        "import pandas as pd\n",
        "import matplotlib.pyplot as plt\n",
        "import seaborn as sns\n",
        "\n",
        "import multiprocessing\n",
        "from gensim.models import Word2Vec\n",
        "\n",
        "from sklearn.decomposition import IncrementalPCA\n",
        "from sklearn.manifold import TSNE\n",
        "import numpy as np\n",
        "\n",
        "import plotly.graph_objects as go\n",
        "import plotly.express as px"
      ]
    },
    {
      "cell_type": "markdown",
      "metadata": {
        "id": "g07zJxG7H9vG"
      },
      "source": [
        "### Datos\n",
        "\n",
        "Se utilizará como dataset un libro de música llamado \"Essentials of Music Theory: Elementary\" del sitio *https://www.gutenberg.org*.\n",
        "\n",
        "Con esta información se crearán los embeddings de palabras, cuya representación se basará en el contenido del libro. Se analizarán relaciones basadas en la semántica de los conceptos musicales."
      ]
    },
    {
      "cell_type": "code",
      "execution_count": 81,
      "metadata": {
        "id": "ticoqYD1Z3I7",
        "colab": {
          "base_uri": "https://localhost:8080/",
          "height": 276
        },
        "outputId": "fe1ab7c8-8110-4a27-b73a-f392f4fbe7bc"
      },
      "outputs": [
        {
          "output_type": "stream",
          "name": "stderr",
          "text": [
            "<ipython-input-81-6b11cf74f03b>:3: ParserWarning:\n",
            "\n",
            "Falling back to the 'python' engine because the 'c' engine does not support regex separators (separators > 1 char and different from '\\s+' are interpreted as regex); you can avoid this warning by specifying engine='python'.\n",
            "\n"
          ]
        },
        {
          "output_type": "execute_result",
          "data": {
            "text/plain": [
              "                                                   0\n",
              "0  The Project Gutenberg eBook of Essentials of M...\n",
              "1  This ebook is for the use of anyone anywhere i...\n",
              "2  most other parts of the world at no cost and w...\n",
              "3  whatsoever. You may copy it, give it away or r...\n",
              "4  of the Project Gutenberg License included with..."
            ],
            "text/html": [
              "\n",
              "  <div id=\"df-81815e50-a9b8-4232-a0d7-ea83ad1a017f\" class=\"colab-df-container\">\n",
              "    <div>\n",
              "<style scoped>\n",
              "    .dataframe tbody tr th:only-of-type {\n",
              "        vertical-align: middle;\n",
              "    }\n",
              "\n",
              "    .dataframe tbody tr th {\n",
              "        vertical-align: top;\n",
              "    }\n",
              "\n",
              "    .dataframe thead th {\n",
              "        text-align: right;\n",
              "    }\n",
              "</style>\n",
              "<table border=\"1\" class=\"dataframe\">\n",
              "  <thead>\n",
              "    <tr style=\"text-align: right;\">\n",
              "      <th></th>\n",
              "      <th>0</th>\n",
              "    </tr>\n",
              "  </thead>\n",
              "  <tbody>\n",
              "    <tr>\n",
              "      <th>0</th>\n",
              "      <td>The Project Gutenberg eBook of Essentials of M...</td>\n",
              "    </tr>\n",
              "    <tr>\n",
              "      <th>1</th>\n",
              "      <td>This ebook is for the use of anyone anywhere i...</td>\n",
              "    </tr>\n",
              "    <tr>\n",
              "      <th>2</th>\n",
              "      <td>most other parts of the world at no cost and w...</td>\n",
              "    </tr>\n",
              "    <tr>\n",
              "      <th>3</th>\n",
              "      <td>whatsoever. You may copy it, give it away or r...</td>\n",
              "    </tr>\n",
              "    <tr>\n",
              "      <th>4</th>\n",
              "      <td>of the Project Gutenberg License included with...</td>\n",
              "    </tr>\n",
              "  </tbody>\n",
              "</table>\n",
              "</div>\n",
              "    <div class=\"colab-df-buttons\">\n",
              "\n",
              "  <div class=\"colab-df-container\">\n",
              "    <button class=\"colab-df-convert\" onclick=\"convertToInteractive('df-81815e50-a9b8-4232-a0d7-ea83ad1a017f')\"\n",
              "            title=\"Convert this dataframe to an interactive table.\"\n",
              "            style=\"display:none;\">\n",
              "\n",
              "  <svg xmlns=\"http://www.w3.org/2000/svg\" height=\"24px\" viewBox=\"0 -960 960 960\">\n",
              "    <path d=\"M120-120v-720h720v720H120Zm60-500h600v-160H180v160Zm220 220h160v-160H400v160Zm0 220h160v-160H400v160ZM180-400h160v-160H180v160Zm440 0h160v-160H620v160ZM180-180h160v-160H180v160Zm440 0h160v-160H620v160Z\"/>\n",
              "  </svg>\n",
              "    </button>\n",
              "\n",
              "  <style>\n",
              "    .colab-df-container {\n",
              "      display:flex;\n",
              "      gap: 12px;\n",
              "    }\n",
              "\n",
              "    .colab-df-convert {\n",
              "      background-color: #E8F0FE;\n",
              "      border: none;\n",
              "      border-radius: 50%;\n",
              "      cursor: pointer;\n",
              "      display: none;\n",
              "      fill: #1967D2;\n",
              "      height: 32px;\n",
              "      padding: 0 0 0 0;\n",
              "      width: 32px;\n",
              "    }\n",
              "\n",
              "    .colab-df-convert:hover {\n",
              "      background-color: #E2EBFA;\n",
              "      box-shadow: 0px 1px 2px rgba(60, 64, 67, 0.3), 0px 1px 3px 1px rgba(60, 64, 67, 0.15);\n",
              "      fill: #174EA6;\n",
              "    }\n",
              "\n",
              "    .colab-df-buttons div {\n",
              "      margin-bottom: 4px;\n",
              "    }\n",
              "\n",
              "    [theme=dark] .colab-df-convert {\n",
              "      background-color: #3B4455;\n",
              "      fill: #D2E3FC;\n",
              "    }\n",
              "\n",
              "    [theme=dark] .colab-df-convert:hover {\n",
              "      background-color: #434B5C;\n",
              "      box-shadow: 0px 1px 3px 1px rgba(0, 0, 0, 0.15);\n",
              "      filter: drop-shadow(0px 1px 2px rgba(0, 0, 0, 0.3));\n",
              "      fill: #FFFFFF;\n",
              "    }\n",
              "  </style>\n",
              "\n",
              "    <script>\n",
              "      const buttonEl =\n",
              "        document.querySelector('#df-81815e50-a9b8-4232-a0d7-ea83ad1a017f button.colab-df-convert');\n",
              "      buttonEl.style.display =\n",
              "        google.colab.kernel.accessAllowed ? 'block' : 'none';\n",
              "\n",
              "      async function convertToInteractive(key) {\n",
              "        const element = document.querySelector('#df-81815e50-a9b8-4232-a0d7-ea83ad1a017f');\n",
              "        const dataTable =\n",
              "          await google.colab.kernel.invokeFunction('convertToInteractive',\n",
              "                                                    [key], {});\n",
              "        if (!dataTable) return;\n",
              "\n",
              "        const docLinkHtml = 'Like what you see? Visit the ' +\n",
              "          '<a target=\"_blank\" href=https://colab.research.google.com/notebooks/data_table.ipynb>data table notebook</a>'\n",
              "          + ' to learn more about interactive tables.';\n",
              "        element.innerHTML = '';\n",
              "        dataTable['output_type'] = 'display_data';\n",
              "        await google.colab.output.renderOutput(dataTable, element);\n",
              "        const docLink = document.createElement('div');\n",
              "        docLink.innerHTML = docLinkHtml;\n",
              "        element.appendChild(docLink);\n",
              "      }\n",
              "    </script>\n",
              "  </div>\n",
              "\n",
              "\n",
              "<div id=\"df-b4fd655c-fbcc-4a4d-b1cd-d2f870e33fce\">\n",
              "  <button class=\"colab-df-quickchart\" onclick=\"quickchart('df-b4fd655c-fbcc-4a4d-b1cd-d2f870e33fce')\"\n",
              "            title=\"Suggest charts\"\n",
              "            style=\"display:none;\">\n",
              "\n",
              "<svg xmlns=\"http://www.w3.org/2000/svg\" height=\"24px\"viewBox=\"0 0 24 24\"\n",
              "     width=\"24px\">\n",
              "    <g>\n",
              "        <path d=\"M19 3H5c-1.1 0-2 .9-2 2v14c0 1.1.9 2 2 2h14c1.1 0 2-.9 2-2V5c0-1.1-.9-2-2-2zM9 17H7v-7h2v7zm4 0h-2V7h2v10zm4 0h-2v-4h2v4z\"/>\n",
              "    </g>\n",
              "</svg>\n",
              "  </button>\n",
              "\n",
              "<style>\n",
              "  .colab-df-quickchart {\n",
              "      --bg-color: #E8F0FE;\n",
              "      --fill-color: #1967D2;\n",
              "      --hover-bg-color: #E2EBFA;\n",
              "      --hover-fill-color: #174EA6;\n",
              "      --disabled-fill-color: #AAA;\n",
              "      --disabled-bg-color: #DDD;\n",
              "  }\n",
              "\n",
              "  [theme=dark] .colab-df-quickchart {\n",
              "      --bg-color: #3B4455;\n",
              "      --fill-color: #D2E3FC;\n",
              "      --hover-bg-color: #434B5C;\n",
              "      --hover-fill-color: #FFFFFF;\n",
              "      --disabled-bg-color: #3B4455;\n",
              "      --disabled-fill-color: #666;\n",
              "  }\n",
              "\n",
              "  .colab-df-quickchart {\n",
              "    background-color: var(--bg-color);\n",
              "    border: none;\n",
              "    border-radius: 50%;\n",
              "    cursor: pointer;\n",
              "    display: none;\n",
              "    fill: var(--fill-color);\n",
              "    height: 32px;\n",
              "    padding: 0;\n",
              "    width: 32px;\n",
              "  }\n",
              "\n",
              "  .colab-df-quickchart:hover {\n",
              "    background-color: var(--hover-bg-color);\n",
              "    box-shadow: 0 1px 2px rgba(60, 64, 67, 0.3), 0 1px 3px 1px rgba(60, 64, 67, 0.15);\n",
              "    fill: var(--button-hover-fill-color);\n",
              "  }\n",
              "\n",
              "  .colab-df-quickchart-complete:disabled,\n",
              "  .colab-df-quickchart-complete:disabled:hover {\n",
              "    background-color: var(--disabled-bg-color);\n",
              "    fill: var(--disabled-fill-color);\n",
              "    box-shadow: none;\n",
              "  }\n",
              "\n",
              "  .colab-df-spinner {\n",
              "    border: 2px solid var(--fill-color);\n",
              "    border-color: transparent;\n",
              "    border-bottom-color: var(--fill-color);\n",
              "    animation:\n",
              "      spin 1s steps(1) infinite;\n",
              "  }\n",
              "\n",
              "  @keyframes spin {\n",
              "    0% {\n",
              "      border-color: transparent;\n",
              "      border-bottom-color: var(--fill-color);\n",
              "      border-left-color: var(--fill-color);\n",
              "    }\n",
              "    20% {\n",
              "      border-color: transparent;\n",
              "      border-left-color: var(--fill-color);\n",
              "      border-top-color: var(--fill-color);\n",
              "    }\n",
              "    30% {\n",
              "      border-color: transparent;\n",
              "      border-left-color: var(--fill-color);\n",
              "      border-top-color: var(--fill-color);\n",
              "      border-right-color: var(--fill-color);\n",
              "    }\n",
              "    40% {\n",
              "      border-color: transparent;\n",
              "      border-right-color: var(--fill-color);\n",
              "      border-top-color: var(--fill-color);\n",
              "    }\n",
              "    60% {\n",
              "      border-color: transparent;\n",
              "      border-right-color: var(--fill-color);\n",
              "    }\n",
              "    80% {\n",
              "      border-color: transparent;\n",
              "      border-right-color: var(--fill-color);\n",
              "      border-bottom-color: var(--fill-color);\n",
              "    }\n",
              "    90% {\n",
              "      border-color: transparent;\n",
              "      border-bottom-color: var(--fill-color);\n",
              "    }\n",
              "  }\n",
              "</style>\n",
              "\n",
              "  <script>\n",
              "    async function quickchart(key) {\n",
              "      const quickchartButtonEl =\n",
              "        document.querySelector('#' + key + ' button');\n",
              "      quickchartButtonEl.disabled = true;  // To prevent multiple clicks.\n",
              "      quickchartButtonEl.classList.add('colab-df-spinner');\n",
              "      try {\n",
              "        const charts = await google.colab.kernel.invokeFunction(\n",
              "            'suggestCharts', [key], {});\n",
              "      } catch (error) {\n",
              "        console.error('Error during call to suggestCharts:', error);\n",
              "      }\n",
              "      quickchartButtonEl.classList.remove('colab-df-spinner');\n",
              "      quickchartButtonEl.classList.add('colab-df-quickchart-complete');\n",
              "    }\n",
              "    (() => {\n",
              "      let quickchartButtonEl =\n",
              "        document.querySelector('#df-b4fd655c-fbcc-4a4d-b1cd-d2f870e33fce button');\n",
              "      quickchartButtonEl.style.display =\n",
              "        google.colab.kernel.accessAllowed ? 'block' : 'none';\n",
              "    })();\n",
              "  </script>\n",
              "</div>\n",
              "\n",
              "    </div>\n",
              "  </div>\n"
            ],
            "application/vnd.google.colaboratory.intrinsic+json": {
              "type": "dataframe",
              "variable_name": "df",
              "summary": "{\n  \"name\": \"df\",\n  \"rows\": 1938,\n  \"fields\": [\n    {\n      \"column\": 0,\n      \"properties\": {\n        \"dtype\": \"string\",\n        \"num_unique_values\": 1746,\n        \"samples\": [\n          \"previously considered as -f-. It must be called -e-\\u266f to retain the\",\n          \"the next Number of Sharps.=\",\n          \"3. What is the difference between a chromatic scale and a diatonic\"\n        ],\n        \"semantic_type\": \"\",\n        \"description\": \"\"\n      }\n    }\n  ]\n}"
            }
          },
          "metadata": {},
          "execution_count": 81
        }
      ],
      "source": [
        "# Se arma el dataset a partir del libro \"Essentials of Music Theory: Elementary\" de Project Gutenberg\n",
        "# Se utiliza el salto de línea para separar las oraciones/documentos.\n",
        "df = pd.read_csv('https://www.gutenberg.org/cache/epub/65500/pg65500.txt', sep='/n', header=None)\n",
        "\n",
        "# Se muestran las primeras líneas para verificar la carga\n",
        "df.head()"
      ]
    },
    {
      "cell_type": "code",
      "execution_count": 82,
      "metadata": {
        "id": "LEpKubK9XzXN",
        "colab": {
          "base_uri": "https://localhost:8080/"
        },
        "outputId": "8d8fa60b-373d-4caa-c07f-738eb0e07a1e"
      },
      "outputs": [
        {
          "output_type": "stream",
          "name": "stdout",
          "text": [
            "Cantidad de documentos: 1938\n"
          ]
        }
      ],
      "source": [
        "print(\"Cantidad de documentos:\", df.shape[0])"
      ]
    },
    {
      "cell_type": "markdown",
      "metadata": {
        "id": "ab94qaFlrA1G"
      },
      "source": [
        "### 1 - Preprocesamiento"
      ]
    },
    {
      "cell_type": "code",
      "execution_count": 83,
      "metadata": {
        "id": "rIsmMWmjrDHd"
      },
      "outputs": [],
      "source": [
        "from tensorflow.keras.preprocessing.text import text_to_word_sequence\n",
        "\n",
        "sentence_tokens = []\n",
        "# Recorrer todas las filas y transformar las oraciones en una secuencia de palabras\n",
        "for _, row in df.iterrows():\n",
        "    if isinstance(row[0], str):\n",
        "        sentence_tokens.append(text_to_word_sequence(row[0]))\n"
      ]
    },
    {
      "cell_type": "code",
      "execution_count": 84,
      "metadata": {
        "id": "CHepi_DGrbhq",
        "colab": {
          "base_uri": "https://localhost:8080/"
        },
        "outputId": "5c3633fd-f1b2-46bc-ac8f-e3dd0dd9884e"
      },
      "outputs": [
        {
          "output_type": "execute_result",
          "data": {
            "text/plain": [
              "[['the',\n",
              "  'project',\n",
              "  'gutenberg',\n",
              "  'ebook',\n",
              "  'of',\n",
              "  'essentials',\n",
              "  'of',\n",
              "  'music',\n",
              "  'theory',\n",
              "  'elementary'],\n",
              " ['this',\n",
              "  'ebook',\n",
              "  'is',\n",
              "  'for',\n",
              "  'the',\n",
              "  'use',\n",
              "  'of',\n",
              "  'anyone',\n",
              "  'anywhere',\n",
              "  'in',\n",
              "  'the',\n",
              "  'united',\n",
              "  'states',\n",
              "  'and']]"
            ]
          },
          "metadata": {},
          "execution_count": 84
        }
      ],
      "source": [
        "# Se observan las transformaciones para las primeras dos líneas\n",
        "sentence_tokens[:2]"
      ]
    },
    {
      "cell_type": "markdown",
      "metadata": {
        "id": "BaXV6nlHr5Aa"
      },
      "source": [
        "### 2 - Crear los vectores (word2vec)"
      ]
    },
    {
      "cell_type": "markdown",
      "source": [
        "Se utiliza el mismo *callback* presentado en clase, ya que proporciona información adecuada sobre el proceso de entrenamiento."
      ],
      "metadata": {
        "id": "BNOXbBl6Sxzr"
      }
    },
    {
      "cell_type": "code",
      "execution_count": 85,
      "metadata": {
        "id": "OSb0v7h8r7hK"
      },
      "outputs": [],
      "source": [
        "from gensim.models.callbacks import CallbackAny2Vec\n",
        "# Durante el entrenamiento gensim por defecto no informa el \"loss\" en cada época\n",
        "# Sobrecargamos el callback para poder tener esta información\n",
        "class callback(CallbackAny2Vec):\n",
        "    \"\"\"\n",
        "    Callback to print loss after each epoch\n",
        "    \"\"\"\n",
        "    def __init__(self):\n",
        "        self.epoch = 0\n",
        "\n",
        "    def on_epoch_end(self, model):\n",
        "        loss = model.get_latest_training_loss()\n",
        "        if self.epoch == 0:\n",
        "            print('Loss after epoch {}: {}'.format(self.epoch, loss))\n",
        "        else:\n",
        "            print('Loss after epoch {}: {}'.format(self.epoch, loss- self.loss_previous_step))\n",
        "        self.epoch += 1\n",
        "        self.loss_previous_step = loss"
      ]
    },
    {
      "cell_type": "markdown",
      "source": [
        "En la siguiente celda se crea el modelo de vectorización Word2Vec utilizando la arquitectura Skipgram. También se hicieron pruebas con CBOW pero no fue tan efectivo capturando relaciones semánticas en conceptos musicales más complejos.\n",
        "\n",
        "Se generaron embeddings de tamaño 50 ya que el vocabulario utilizado por el corpus no es tan amplio. La ventana utilizada fue de 3 palabras alrededor de la palabra objetivo dado que se obtuvieron mejores resultados con este valor."
      ],
      "metadata": {
        "id": "AF0oCjndEJVV"
      }
    },
    {
      "cell_type": "code",
      "execution_count": 86,
      "metadata": {
        "id": "i0wnDdv9sJ47"
      },
      "outputs": [],
      "source": [
        "# Se crea modelo vectorizador con Skipgram\n",
        "w2v_model = Word2Vec(min_count=1,    # frecuencia mínima de palabra para incluirla en el vocabulario\n",
        "                     window=3,       # cant de palabras antes y desp del objetivo\n",
        "                     vector_size=50, # dimensionalidad de los vectores\n",
        "                     negative=20,    # cantidad de negative samples... 0 es no se usa\n",
        "                     workers=multiprocessing.cpu_count(),\n",
        "                     sg=1)           # modelo 0:CBOW  1:skipgram"
      ]
    },
    {
      "cell_type": "code",
      "execution_count": 87,
      "metadata": {
        "id": "5lTt8wErsf17"
      },
      "outputs": [],
      "source": [
        "# Se obtiene el vocabulario con los tokens\n",
        "w2v_model.build_vocab(sentence_tokens)"
      ]
    },
    {
      "cell_type": "code",
      "execution_count": 88,
      "metadata": {
        "id": "TNc9qt4os5AT",
        "colab": {
          "base_uri": "https://localhost:8080/"
        },
        "outputId": "9ebf68c0-70ae-4267-92e4-6eb1fcc9308a"
      },
      "outputs": [
        {
          "output_type": "stream",
          "name": "stdout",
          "text": [
            "Cantidad de docs en el corpus: 1938\n"
          ]
        }
      ],
      "source": [
        "# Cantidad de filas/docs encontradas en el corpus\n",
        "print(\"Cantidad de docs en el corpus:\", w2v_model.corpus_count)"
      ]
    },
    {
      "cell_type": "code",
      "execution_count": 89,
      "metadata": {
        "id": "idw9cHF3tSMl",
        "colab": {
          "base_uri": "https://localhost:8080/"
        },
        "outputId": "1ec7bc43-019f-4580-d6ff-d383447be4d3"
      },
      "outputs": [
        {
          "output_type": "stream",
          "name": "stdout",
          "text": [
            "Cantidad de words distintas en el corpus: 2037\n"
          ]
        }
      ],
      "source": [
        "# Cantidad de words encontradas en el corpus\n",
        "print(\"Cantidad de words distintas en el corpus:\", len(w2v_model.wv.index_to_key))"
      ]
    },
    {
      "cell_type": "markdown",
      "metadata": {
        "id": "fC9mZ8DPk-UC"
      },
      "source": [
        "### 3 - Entrenar embeddings"
      ]
    },
    {
      "cell_type": "code",
      "execution_count": 90,
      "metadata": {
        "id": "QSp-x0PAsq56",
        "colab": {
          "base_uri": "https://localhost:8080/"
        },
        "outputId": "d2d7a0fc-6d5f-4403-bd92-5d5fcd96ae1c"
      },
      "outputs": [
        {
          "output_type": "stream",
          "name": "stdout",
          "text": [
            "Loss after epoch 0: 161762.0625\n",
            "Loss after epoch 1: 92761.6875\n",
            "Loss after epoch 2: 84672.25\n",
            "Loss after epoch 3: 79323.625\n",
            "Loss after epoch 4: 78844.875\n",
            "Loss after epoch 5: 77036.0625\n",
            "Loss after epoch 6: 75518.875\n",
            "Loss after epoch 7: 73118.25\n",
            "Loss after epoch 8: 72045.6875\n",
            "Loss after epoch 9: 69975.9375\n",
            "Loss after epoch 10: 70013.375\n",
            "Loss after epoch 11: 68522.875\n",
            "Loss after epoch 12: 65350.9375\n",
            "Loss after epoch 13: 62027.625\n",
            "Loss after epoch 14: 60640.375\n",
            "Loss after epoch 15: 60806.5\n",
            "Loss after epoch 16: 61396.75\n",
            "Loss after epoch 17: 58735.75\n",
            "Loss after epoch 18: 60521.0\n",
            "Loss after epoch 19: 59824.375\n"
          ]
        },
        {
          "output_type": "execute_result",
          "data": {
            "text/plain": [
              "(235210, 326340)"
            ]
          },
          "metadata": {},
          "execution_count": 90
        }
      ],
      "source": [
        "# Se entrena el modelo (utilizando el callback definido)\n",
        "w2v_model.train(sentence_tokens,\n",
        "                 total_examples=w2v_model.corpus_count,\n",
        "                 epochs=20,\n",
        "                 compute_loss = True,\n",
        "                 callbacks=[callback()]\n",
        "                 )"
      ]
    },
    {
      "cell_type": "markdown",
      "metadata": {
        "id": "ddT9NVuNlCAe"
      },
      "source": [
        "### 4 - Ensayar"
      ]
    },
    {
      "cell_type": "markdown",
      "source": [
        "En las siguientes celdas se analizarán las relaciones entre palabras en el espacio de embeddings."
      ],
      "metadata": {
        "id": "_rAU-9p5YYkr"
      }
    },
    {
      "cell_type": "code",
      "execution_count": 91,
      "metadata": {
        "id": "6cHN9xGLuPEm",
        "colab": {
          "base_uri": "https://localhost:8080/"
        },
        "outputId": "7f9f1439-4fde-4063-f4a4-765aed581092"
      },
      "outputs": [
        {
          "output_type": "execute_result",
          "data": {
            "text/plain": [
              "[('flat', 0.969540536403656),\n",
              " ('sharped', 0.93711918592453),\n",
              " ('added', 0.9298794269561768),\n",
              " ('single', 0.9102452397346497),\n",
              " ('cancel', 0.9093285202980042),\n",
              " ('signatures', 0.8978573679924011),\n",
              " ('signature', 0.8899998068809509),\n",
              " ('lowers', 0.8886432647705078),\n",
              " ('remains', 0.8864120244979858),\n",
              " ('order', 0.8831487894058228)]"
            ]
          },
          "metadata": {},
          "execution_count": 91
        }
      ],
      "source": [
        "# Se obtienen las palabras que más se relacionan con el concepto de sostenido (sharp)\n",
        "w2v_model.wv.most_similar(positive=[\"sharp\"], topn=10)"
      ]
    },
    {
      "cell_type": "markdown",
      "source": [
        "En este caso la similitud con bemol (*flat*) es bastante predecible, ya que ambas son alteraciones que se pueden hacer a una nota musical. *Sharp* aumenta la frecuencia en medio tono mientras que *flat* la disminuye también en medio tono."
      ],
      "metadata": {
        "id": "BLflp6NqYjCN"
      }
    },
    {
      "cell_type": "code",
      "execution_count": 92,
      "metadata": {
        "id": "47HiU5gdkdMq",
        "colab": {
          "base_uri": "https://localhost:8080/"
        },
        "outputId": "68811d9a-cbf2-4930-c3de-d4b6e5a2762d"
      },
      "outputs": [
        {
          "output_type": "execute_result",
          "data": {
            "text/plain": [
              "[('edition', 0.4294172525405884),\n",
              " ('tyndall', 0.2931167483329773),\n",
              " ('pole', 0.21923333406448364),\n",
              " ('wings', 0.1508379429578781),\n",
              " ('reference', -0.03322002291679382),\n",
              " ('electronic', -0.24459458887577057),\n",
              " ('states', -0.26868122816085815),\n",
              " ('not', -0.26922836899757385),\n",
              " ('step', -0.2795872986316681),\n",
              " ('more', -0.28001099824905396)]"
            ]
          },
          "metadata": {},
          "execution_count": 92
        }
      ],
      "source": [
        "# Se obtienen palabras que menos se relacionan con music\n",
        "w2v_model.wv.most_similar(negative=[\"music\"], topn=10)"
      ]
    },
    {
      "cell_type": "markdown",
      "source": [
        "En este caso, se observan palabras que claramente no tienen ninguna relación con el concepto de música. Tal vez *electronic* sí podría estar relacionada, pero al ser un texto que establece conceptos musicales básicos, no se menciona en ningún la palabra *electronic* como un concepto relacionado a la música."
      ],
      "metadata": {
        "id": "Fu_H2F6-ZUbv"
      }
    },
    {
      "cell_type": "code",
      "execution_count": 93,
      "metadata": {
        "id": "DT4Rvno2mD65",
        "colab": {
          "base_uri": "https://localhost:8080/"
        },
        "outputId": "daa8f354-3192-43dd-a1ca-3c111a851119"
      },
      "outputs": [
        {
          "output_type": "execute_result",
          "data": {
            "text/plain": [
              "[('dominant', 0.9170248508453369),\n",
              " ('inversion', 0.8822497129440308),\n",
              " ('fundamental', 0.8799612522125244),\n",
              " ('figured', 0.8774280548095703),\n",
              " ('first', 0.8692854046821594),\n",
              " ('subtonic', 0.8688098788261414),\n",
              " ('because', 0.8634206652641296),\n",
              " ('seventh', 0.8602502346038818),\n",
              " ('sixth', 0.8560895919799805),\n",
              " ('doubled', 0.8466036319732666)]"
            ]
          },
          "metadata": {},
          "execution_count": 93
        }
      ],
      "source": [
        "# Se obtienen palabras similares a chord (acorde)\n",
        "w2v_model.wv.most_similar(positive=[\"chord\"], topn=10)"
      ]
    },
    {
      "cell_type": "markdown",
      "source": [
        "Aquí se puede observar que las palabras más similares corresponden a elementos que componen un acorde (*dominant*, *fundamental*) o alteraciones a los mismos (*inversion*). La palabra *figured* aparece entre las primeras ya que generalmente en el libro se utiliza generalmente para indicar cómo esta formado un acorde."
      ],
      "metadata": {
        "id": "vF_ZbiziaAEu"
      }
    },
    {
      "cell_type": "code",
      "execution_count": 94,
      "metadata": {
        "id": "XPLDPgzBmQXt",
        "colab": {
          "base_uri": "https://localhost:8080/"
        },
        "outputId": "b81e131e-7e32-4c86-c6eb-50c99f655f58"
      },
      "outputs": [
        {
          "output_type": "execute_result",
          "data": {
            "text/plain": [
              "[('octave', 0.8790116906166077),\n",
              " ('step', 0.8788273334503174),\n",
              " ('situated', 0.8653691411018372),\n",
              " ('being', 0.8652088642120361),\n",
              " ('accidental', 0.8625380396842957)]"
            ]
          },
          "metadata": {},
          "execution_count": 94
        }
      ],
      "source": [
        "# Se obtienen las palabras que más se relacionan con interval\n",
        "w2v_model.wv.most_similar(positive=[\"interval\"], topn=5)"
      ]
    },
    {
      "cell_type": "markdown",
      "source": [
        "Las palabras que más se relacionan con *interval* tienen bastante sentido. *octave* se refiere al intervalo de octava, mientras que *step* se utiliza muchas veces como sinónimo de intervalo. El resto de las palabras que siguen no están tan relacionadas con *interval* musicalmente, pero seguramente en el texto sean utilizadas para definirlos y explicarlos."
      ],
      "metadata": {
        "id": "hUOp5IiJa_m4"
      }
    },
    {
      "cell_type": "markdown",
      "source": [
        "Al momento de analizar las analogías se encontró que al ser un texto tan pequeño y con la información dispuesta en diversas notaciones, el aprendizaje de las similaridades no fue tan efectivo como se esperaba. Por ejemplo, para nombrar un intervalo musical de séptima se usa tanto la palabra \"7th\" como \"seventh\". En un libro más extenso tal vez se hubiese podido capturar estas relaciones de forma más efectiva, de la mano con embeddings de mayor tamaño y un modelo más potente."
      ],
      "metadata": {
        "id": "Ih5APndFd_c0"
      }
    },
    {
      "cell_type": "markdown",
      "source": [
        "De todas formas se pudieron capturar algunas analogías interesantes. Una de ellas es ver qué sucede con los sostenidos y bemoles. Un sostenido eleva una nota medio tono más alto, mientra que el bemol hace lo contrario, baja medio tono. Por lo tanto, se analiza la analogía \"sharp\" - \"high\" + \"low\", que básicamente le quita lo \"alto\" al sostenido y le agrega lo \"bajo\"."
      ],
      "metadata": {
        "id": "oAiCyzpgqhY3"
      }
    },
    {
      "cell_type": "code",
      "source": [
        "result = w2v_model.wv.most_similar(positive=['sharp','low'], negative=['high'], topn=1)\n",
        "print(result)"
      ],
      "metadata": {
        "colab": {
          "base_uri": "https://localhost:8080/"
        },
        "id": "KAAnzUXlqUSv",
        "outputId": "0bd27bad-aaff-4424-db72-8af251adede9"
      },
      "execution_count": 95,
      "outputs": [
        {
          "output_type": "stream",
          "name": "stdout",
          "text": [
            "[('flat', 0.9462301135063171)]\n"
          ]
        }
      ]
    },
    {
      "cell_type": "markdown",
      "source": [
        "El resultado *flat* (bemol) es coherente con la operación realizada."
      ],
      "metadata": {
        "id": "PEY_IjaJrFW3"
      }
    },
    {
      "cell_type": "markdown",
      "source": [
        "En un piano, las teclas blancas son las naturales mientras que las negras son la alteradas (sostenidos y bemoles). Si se realiza la analogía 'white' + 'key' - 'natural' se obtiene 'black', lo cual nuevamente tiene sentido. De todas formas, en este caso la similaridad no fue tan fuerte como en el caso anterior."
      ],
      "metadata": {
        "id": "pLE_J36E7Xo-"
      }
    },
    {
      "cell_type": "code",
      "source": [
        "result = w2v_model.wv.most_similar(positive=['white','key'], negative=['natural'], topn=1)\n",
        "print(result)"
      ],
      "metadata": {
        "colab": {
          "base_uri": "https://localhost:8080/"
        },
        "id": "palqlUWszDIf",
        "outputId": "da1d199b-d9eb-4627-845f-5e114dc1f365"
      },
      "execution_count": 96,
      "outputs": [
        {
          "output_type": "stream",
          "name": "stdout",
          "text": [
            "[('black', 0.8111461400985718)]\n"
          ]
        }
      ]
    },
    {
      "cell_type": "markdown",
      "metadata": {
        "id": "_g8UVWe6lFmh"
      },
      "source": [
        "### 5 - Visualizar agrupación de vectores"
      ]
    },
    {
      "cell_type": "markdown",
      "source": [
        "En las siguientes celdas se realizarán representaciones en 2D y 3D de los embeddings de palabras, de forma de analizar si las similitudes también pueden ser detectadas visualmente."
      ],
      "metadata": {
        "id": "IkHuPSRkeFGm"
      }
    },
    {
      "cell_type": "code",
      "execution_count": 97,
      "metadata": {
        "id": "pDxEVXAivjr9"
      },
      "outputs": [],
      "source": [
        "def reduce_dimensions(model, num_dimensions=2):\n",
        "\n",
        "    vectors = np.asarray(model.wv.vectors)\n",
        "    labels = np.asarray(model.wv.index_to_key)\n",
        "\n",
        "    tsne = TSNE(n_components=num_dimensions, random_state=0)\n",
        "    vectors = tsne.fit_transform(vectors)\n",
        "\n",
        "    return vectors, labels"
      ]
    },
    {
      "cell_type": "code",
      "execution_count": 98,
      "metadata": {
        "id": "NCCXtDpcugmd",
        "colab": {
          "base_uri": "https://localhost:8080/",
          "height": 542
        },
        "outputId": "8d6f6c7a-8c58-402e-bdeb-a3f73a2445e1"
      },
      "outputs": [
        {
          "output_type": "display_data",
          "data": {
            "text/html": [
              "<html>\n",
              "<head><meta charset=\"utf-8\" /></head>\n",
              "<body>\n",
              "    <div>            <script src=\"https://cdnjs.cloudflare.com/ajax/libs/mathjax/2.7.5/MathJax.js?config=TeX-AMS-MML_SVG\"></script><script type=\"text/javascript\">if (window.MathJax && window.MathJax.Hub && window.MathJax.Hub.Config) {window.MathJax.Hub.Config({SVG: {font: \"STIX-Web\"}});}</script>                <script type=\"text/javascript\">window.PlotlyConfig = {MathJaxConfig: 'local'};</script>\n",
              "        <script charset=\"utf-8\" src=\"https://cdn.plot.ly/plotly-2.24.1.min.js\"></script>                <div id=\"2297184c-ca75-49d7-a858-2b17c177c395\" class=\"plotly-graph-div\" style=\"height:525px; width:100%;\"></div>            <script type=\"text/javascript\">                                    window.PLOTLYENV=window.PLOTLYENV || {};                                    if (document.getElementById(\"2297184c-ca75-49d7-a858-2b17c177c395\")) {                    Plotly.newPlot(                        \"2297184c-ca75-49d7-a858-2b17c177c395\",                        [{\"hovertemplate\":\"x=%{x}\\u003cbr\\u003ey=%{y}\\u003cbr\\u003etext=%{text}\\u003cextra\\u003e\\u003c\\u002fextra\\u003e\",\"legendgroup\":\"\",\"marker\":{\"color\":\"#636efa\",\"symbol\":\"circle\"},\"mode\":\"markers+text\",\"name\":\"\",\"orientation\":\"v\",\"showlegend\":false,\"text\":[\"the\",\"of\",\"and\",\"a\",\"is\",\"in\",\"to\",\"or\",\"music\",\"illustration\",\"1\",\"are\",\"scale\",\"minor\",\"by\",\"major\",\"c\",\"this\",\"be\",\"e\",\"with\",\"2\",\"f\",\"as\",\"b\",\"project\",\"4\",\"6\",\"it\",\"you\",\"has\",\"d\",\"g\",\"5\",\"for\",\"which\",\"not\",\"intervals\",\"seventh\",\"note\",\"all\",\"3\",\"chord\",\"on\",\"any\",\"gutenberg\\u2122\",\"that\",\"flats\",\"called\",\"tone\",\"7\",\"sharps\",\"an\",\"may\",\"interval\",\"one\",\"work\",\"from\",\"augmented\",\"keys\",\"fourth\",\"second\",\"its\",\"if\",\"8\",\"should\",\"key\",\"fifth\",\"diminished\",\"two\",\"but\",\"at\",\"half\",\"double\",\"student\",\"between\",\"gutenberg\",\"sharp\",\"f\\u266f\",\"third\",\"tones\",\"following\",\"perfect\",\"octave\",\"than\",\"works\",\"\\u266f\",\"c\\u266f\",\"harmonic\",\"b\\u266d\",\"sixth\",\"flat\",\"triad\",\"other\",\"notes\",\"these\",\"melodic\",\"fundamental\",\"chords\",\"do\",\"will\",\"what\",\"used\",\"electronic\",\"e\\u266d\",\"7\\u23238\",\"each\",\"three\",\"four\",\"a\\u266d\",\"no\",\"use\",\"tonic\",\"scales\",\"3\\u23234\",\"g\\u266f\",\"step\",\"same\",\"terms\",\"bass\",\"group\",\"pitch\",\"\\u266d\\u266d\",\"have\",\"steps\",\"d\\u266f\",\"name\",\"9\",\"d\\u266d\",\"whole\",\"more\",\"signature\",\"copyright\",\"number\",\"g\\u266d\",\"found\",\"a\\u266f\",\"having\",\"foundation\",\"\\u266d\",\"sound\",\"different\",\"states\",\"thus\",\"can\",\"many\",\"exercise\",\"form\",\"prime\",\"most\",\"notice\",\"agreement\",\"both\",\"inversion\",\"letters\",\"license\",\"must\",\"etc\",\"given\",\"x\",\"lower\",\"2nd\",\"rest\",\"teacher\",\"before\",\"above\",\"when\",\"i\",\"7th\",\"ear\",\"united\",\"c\\u266d\",\"rule\",\"black\",\"order\",\"seven\",\"exercises\",\"there\",\"time\",\"6th\",\"3rd\",\"over\",\"such\",\"vibrations\",\"triads\",\"donations\",\"below\",\"played\",\"six\",\"first\",\"trademark\",\"theory\",\"under\",\"staff\",\"upper\",\"archive\",\"white\",\"subtonic\",\"clef\",\"we\"],\"x\":[21.45937156677246,32.48230743408203,26.64759063720703,31.9179630279541,32.79371643066406,16.067047119140625,-35.97745132446289,20.252399444580078,46.367000579833984,48.64616775512695,45.98390197753906,0.9654015898704529,34.17984390258789,27.237361907958984,3.8998982906341553,27.169214248657227,50.087921142578125,-47.181034088134766,-33.821964263916016,51.298526763916016,-46.624786376953125,45.9925422668457,50.503807067871094,-4.519268989562988,51.5921516418457,-55.05551528930664,45.149906158447266,46.912879943847656,-30.28807830810547,-47.7015495300293,37.118812561035156,51.27206039428711,51.00685119628906,46.98189163208008,-45.73066329956055,8.881314277648926,-39.48163604736328,-17.13697052001953,20.92531967163086,22.356414794921875,-16.07742691040039,44.295562744140625,21.850757598876953,19.776023864746094,-52.470523834228516,-55.34841537475586,6.887117385864258,38.4605598449707,11.279293060302734,15.954039573669434,43.01237487792969,38.51176452636719,11.799243927001953,-34.31806564331055,17.263952255249023,18.808460235595703,-53.619327545166016,13.681575775146484,42.32980728149414,4.983722686767578,40.12173843383789,24.877779006958008,31.086193084716797,-48.50303649902344,43.959449768066406,-31.932863235473633,4.777656555175781,40.13371658325195,42.84034729003906,34.54936981201172,-1.8489317893981934,-44.32224655151367,19.640396118164062,22.85685157775879,-33.58124542236328,38.383628845214844,-49.62220764160156,9.689112663269043,53.33189010620117,40.69620132446289,18.78179168701172,22.096946716308594,41.8145751953125,40.16267013549805,5.2783074378967285,-54.52128601074219,38.94569396972656,53.57033157348633,25.62666893005371,49.41465759277344,40.8092155456543,9.66370677947998,40.189430236816406,-51.4608154296875,33.572906494140625,-17.438547134399414,25.303272247314453,20.947044372558594,24.068334579467773,-46.167537689208984,-28.76527214050293,32.891876220703125,2.2257261276245117,-55.26459503173828,49.39041519165039,47.74299621582031,-12.145431518554688,36.28373718261719,36.558021545410156,49.1685676574707,31.200693130493164,-47.5836067199707,20.199926376342773,24.773488998413086,47.7847785949707,54.045555114746094,18.936901092529297,9.3104248046875,-55.16394805908203,37.3868522644043,31.841928482055664,-1.2017195224761963,39.61818313598633,-38.098567962646484,38.37012481689453,54.3403434753418,11.596638679504395,43.866355895996094,48.77934265136719,20.947763442993164,5.130905628204346,8.263386726379395,-52.631099700927734,32.17609405517578,48.715641021728516,21.59647560119629,54.11085891723633,3.4501149654388428,-48.42767333984375,39.26975631713867,-17.952301025390625,-0.6730259656906128,-47.092533111572266,33.36978530883789,-42.46863555908203,-30.449527740478516,-22.056642532348633,36.69266891479492,42.094722747802734,-38.99055862426758,6.364181041717529,-55.15479278564453,23.250391006469727,40.50326919555664,6.873095512390137,-54.402828216552734,-42.49848556518555,40.551544189453125,-31.652616500854492,53.697998046875,14.94631576538086,43.565093994140625,21.393123626708984,-32.79174041748047,-26.569849014282227,30.96283531188965,12.064186096191406,44.36888122558594,43.67186737060547,-34.121063232421875,-46.93375778198242,48.29412841796875,39.98235321044922,3.220527172088623,7.2215657234191895,36.08739471435547,-32.28778076171875,28.786489486694336,13.125404357910156,44.08588409423828,44.12785339355469,38.39899826049805,-33.02369689941406,25.26546859741211,24.514814376831055,-46.54252243041992,35.898799896240234,0.9703868627548218,36.96598434448242,21.552722930908203,-53.92739486694336,23.214981079101562,-42.98865509033203,22.470861434936523,14.436006546020508,-48.81270980834961,3.178227186203003,20.284711837768555,41.39415740966797,-38.679264068603516],\"xaxis\":\"x\",\"y\":[-26.574573516845703,-18.20805549621582,-17.565357208251953,-15.244833946228027,-16.27712059020996,-30.834444046020508,16.181838989257812,-39.86680221557617,10.641755104064941,11.402458190917969,-2.814319133758545,-40.98213195800781,-17.440292358398438,-30.306127548217773,-29.33047866821289,-30.03065299987793,11.26593017578125,8.9669189453125,-29.35055160522461,9.14836311340332,4.36074161529541,-5.735533714294434,11.477949142456055,-35.9804801940918,9.685948371887207,14.153624534606934,-5.144218921661377,-6.28439474105835,-31.505868911743164,-3.373816967010498,-25.47588539123535,10.752161026000977,11.123052597045898,-6.205327987670898,8.199642181396484,-34.51286697387695,-10.560211181640625,-32.92218017578125,-33.04741287231445,-43.2099723815918,-32.12270736694336,-5.581600666046143,-32.2914924621582,-30.137971878051758,8.008702278137207,11.976177215576172,-37.543251037597656,-26.406126022338867,-34.07255554199219,-45.51442337036133,-7.4757232666015625,-26.436031341552734,-38.681739807128906,-26.728052139282227,-46.60232162475586,-44.320552825927734,9.487380027770996,-28.470483779907227,-14.379820823669434,-43.944583892822266,-20.488309860229492,-39.75551223754883,-33.82673645019531,-1.9006931781768799,-6.970032691955566,-29.810400009155273,-43.98915481567383,-20.47312355041504,-13.817453384399414,-28.264474868774414,-37.66257095336914,22.63067626953125,-45.67904281616211,-45.55315017700195,-29.164100646972656,-9.155725479125977,23.61561393737793,-44.48587417602539,9.810050010681152,-17.101415634155273,-37.102725982666016,-17.86821174621582,-14.689901351928711,-12.713483810424805,-39.91976547241211,10.952827453613281,-24.03215789794922,9.523699760437012,-29.28396224975586,13.979677200317383,-17.49049949645996,-44.48031234741211,-17.35919189453125,8.508745193481445,-32.28463363647461,-32.011898040771484,-29.15654754638672,-29.367591857910156,-33.50613021850586,-4.489888668060303,-30.783390045166016,-7.942979335784912,-39.557106018066406,11.085494995117188,14.38444995880127,-5.295793056488037,-32.437599182128906,-27.938377380371094,-27.743118286132812,14.62598991394043,-25.397720336914062,9.396973609924316,-26.368961334228516,-30.656843185424805,-5.193586349487305,9.460846900939941,-45.56514358520508,-37.53895568847656,7.01386022567749,-3.9134607315063477,-31.129465103149414,-37.616783142089844,-23.962295532226562,-11.337890625,-9.189245223999023,9.808538436889648,-36.76533508300781,-7.156941890716553,14.79905891418457,-44.79635238647461,-40.07052993774414,-43.16792678833008,0.6740843653678894,-29.240596771240234,14.315478324890137,-30.376277923583984,9.783055305480957,-43.20833969116211,22.95781898498535,-24.036727905273438,-21.952430725097656,-37.90592575073242,-6.246891975402832,-17.344390869140625,-13.263707160949707,-23.266550064086914,-29.879352569580078,-14.698203086853027,-12.661064147949219,2.023714303970337,-36.99539566040039,6.907784461975098,-30.142593383789062,-17.67133140563965,-42.4085578918457,13.578747749328613,-13.260897636413574,2.7570533752441406,-28.957069396972656,10.483867645263672,-44.80677795410156,-12.595520973205566,-44.674583435058594,-28.85348892211914,-32.1700439453125,-17.943166732788086,-42.146854400634766,13.74079704284668,-12.168705940246582,-20.341642379760742,-6.0579514503479,14.767558097839355,-6.907609462738037,-43.41069793701172,-42.702945709228516,-26.51992416381836,-28.128931045532227,-25.515851974487305,-12.24808120727539,-12.0101318359375,-12.563319206237793,-4.2154717445373535,-21.543493270874023,-38.1939697265625,-32.260894775390625,20.994359970092773,-4.493060111999512,-37.443702697753906,-26.928314208984375,-30.340864181518555,13.584604263305664,14.981773376464844,7.5136399269104,-25.23682975769043,-44.915706634521484,23.31191062927246,-43.44110107421875,-31.628917694091797,11.71992015838623,-10.295894622802734],\"yaxis\":\"y\",\"type\":\"scatter\"}],                        {\"template\":{\"data\":{\"histogram2dcontour\":[{\"type\":\"histogram2dcontour\",\"colorbar\":{\"outlinewidth\":0,\"ticks\":\"\"},\"colorscale\":[[0.0,\"#0d0887\"],[0.1111111111111111,\"#46039f\"],[0.2222222222222222,\"#7201a8\"],[0.3333333333333333,\"#9c179e\"],[0.4444444444444444,\"#bd3786\"],[0.5555555555555556,\"#d8576b\"],[0.6666666666666666,\"#ed7953\"],[0.7777777777777778,\"#fb9f3a\"],[0.8888888888888888,\"#fdca26\"],[1.0,\"#f0f921\"]]}],\"choropleth\":[{\"type\":\"choropleth\",\"colorbar\":{\"outlinewidth\":0,\"ticks\":\"\"}}],\"histogram2d\":[{\"type\":\"histogram2d\",\"colorbar\":{\"outlinewidth\":0,\"ticks\":\"\"},\"colorscale\":[[0.0,\"#0d0887\"],[0.1111111111111111,\"#46039f\"],[0.2222222222222222,\"#7201a8\"],[0.3333333333333333,\"#9c179e\"],[0.4444444444444444,\"#bd3786\"],[0.5555555555555556,\"#d8576b\"],[0.6666666666666666,\"#ed7953\"],[0.7777777777777778,\"#fb9f3a\"],[0.8888888888888888,\"#fdca26\"],[1.0,\"#f0f921\"]]}],\"heatmap\":[{\"type\":\"heatmap\",\"colorbar\":{\"outlinewidth\":0,\"ticks\":\"\"},\"colorscale\":[[0.0,\"#0d0887\"],[0.1111111111111111,\"#46039f\"],[0.2222222222222222,\"#7201a8\"],[0.3333333333333333,\"#9c179e\"],[0.4444444444444444,\"#bd3786\"],[0.5555555555555556,\"#d8576b\"],[0.6666666666666666,\"#ed7953\"],[0.7777777777777778,\"#fb9f3a\"],[0.8888888888888888,\"#fdca26\"],[1.0,\"#f0f921\"]]}],\"heatmapgl\":[{\"type\":\"heatmapgl\",\"colorbar\":{\"outlinewidth\":0,\"ticks\":\"\"},\"colorscale\":[[0.0,\"#0d0887\"],[0.1111111111111111,\"#46039f\"],[0.2222222222222222,\"#7201a8\"],[0.3333333333333333,\"#9c179e\"],[0.4444444444444444,\"#bd3786\"],[0.5555555555555556,\"#d8576b\"],[0.6666666666666666,\"#ed7953\"],[0.7777777777777778,\"#fb9f3a\"],[0.8888888888888888,\"#fdca26\"],[1.0,\"#f0f921\"]]}],\"contourcarpet\":[{\"type\":\"contourcarpet\",\"colorbar\":{\"outlinewidth\":0,\"ticks\":\"\"}}],\"contour\":[{\"type\":\"contour\",\"colorbar\":{\"outlinewidth\":0,\"ticks\":\"\"},\"colorscale\":[[0.0,\"#0d0887\"],[0.1111111111111111,\"#46039f\"],[0.2222222222222222,\"#7201a8\"],[0.3333333333333333,\"#9c179e\"],[0.4444444444444444,\"#bd3786\"],[0.5555555555555556,\"#d8576b\"],[0.6666666666666666,\"#ed7953\"],[0.7777777777777778,\"#fb9f3a\"],[0.8888888888888888,\"#fdca26\"],[1.0,\"#f0f921\"]]}],\"surface\":[{\"type\":\"surface\",\"colorbar\":{\"outlinewidth\":0,\"ticks\":\"\"},\"colorscale\":[[0.0,\"#0d0887\"],[0.1111111111111111,\"#46039f\"],[0.2222222222222222,\"#7201a8\"],[0.3333333333333333,\"#9c179e\"],[0.4444444444444444,\"#bd3786\"],[0.5555555555555556,\"#d8576b\"],[0.6666666666666666,\"#ed7953\"],[0.7777777777777778,\"#fb9f3a\"],[0.8888888888888888,\"#fdca26\"],[1.0,\"#f0f921\"]]}],\"mesh3d\":[{\"type\":\"mesh3d\",\"colorbar\":{\"outlinewidth\":0,\"ticks\":\"\"}}],\"scatter\":[{\"fillpattern\":{\"fillmode\":\"overlay\",\"size\":10,\"solidity\":0.2},\"type\":\"scatter\"}],\"parcoords\":[{\"type\":\"parcoords\",\"line\":{\"colorbar\":{\"outlinewidth\":0,\"ticks\":\"\"}}}],\"scatterpolargl\":[{\"type\":\"scatterpolargl\",\"marker\":{\"colorbar\":{\"outlinewidth\":0,\"ticks\":\"\"}}}],\"bar\":[{\"error_x\":{\"color\":\"#2a3f5f\"},\"error_y\":{\"color\":\"#2a3f5f\"},\"marker\":{\"line\":{\"color\":\"#E5ECF6\",\"width\":0.5},\"pattern\":{\"fillmode\":\"overlay\",\"size\":10,\"solidity\":0.2}},\"type\":\"bar\"}],\"scattergeo\":[{\"type\":\"scattergeo\",\"marker\":{\"colorbar\":{\"outlinewidth\":0,\"ticks\":\"\"}}}],\"scatterpolar\":[{\"type\":\"scatterpolar\",\"marker\":{\"colorbar\":{\"outlinewidth\":0,\"ticks\":\"\"}}}],\"histogram\":[{\"marker\":{\"pattern\":{\"fillmode\":\"overlay\",\"size\":10,\"solidity\":0.2}},\"type\":\"histogram\"}],\"scattergl\":[{\"type\":\"scattergl\",\"marker\":{\"colorbar\":{\"outlinewidth\":0,\"ticks\":\"\"}}}],\"scatter3d\":[{\"type\":\"scatter3d\",\"line\":{\"colorbar\":{\"outlinewidth\":0,\"ticks\":\"\"}},\"marker\":{\"colorbar\":{\"outlinewidth\":0,\"ticks\":\"\"}}}],\"scattermapbox\":[{\"type\":\"scattermapbox\",\"marker\":{\"colorbar\":{\"outlinewidth\":0,\"ticks\":\"\"}}}],\"scatterternary\":[{\"type\":\"scatterternary\",\"marker\":{\"colorbar\":{\"outlinewidth\":0,\"ticks\":\"\"}}}],\"scattercarpet\":[{\"type\":\"scattercarpet\",\"marker\":{\"colorbar\":{\"outlinewidth\":0,\"ticks\":\"\"}}}],\"carpet\":[{\"aaxis\":{\"endlinecolor\":\"#2a3f5f\",\"gridcolor\":\"white\",\"linecolor\":\"white\",\"minorgridcolor\":\"white\",\"startlinecolor\":\"#2a3f5f\"},\"baxis\":{\"endlinecolor\":\"#2a3f5f\",\"gridcolor\":\"white\",\"linecolor\":\"white\",\"minorgridcolor\":\"white\",\"startlinecolor\":\"#2a3f5f\"},\"type\":\"carpet\"}],\"table\":[{\"cells\":{\"fill\":{\"color\":\"#EBF0F8\"},\"line\":{\"color\":\"white\"}},\"header\":{\"fill\":{\"color\":\"#C8D4E3\"},\"line\":{\"color\":\"white\"}},\"type\":\"table\"}],\"barpolar\":[{\"marker\":{\"line\":{\"color\":\"#E5ECF6\",\"width\":0.5},\"pattern\":{\"fillmode\":\"overlay\",\"size\":10,\"solidity\":0.2}},\"type\":\"barpolar\"}],\"pie\":[{\"automargin\":true,\"type\":\"pie\"}]},\"layout\":{\"autotypenumbers\":\"strict\",\"colorway\":[\"#636efa\",\"#EF553B\",\"#00cc96\",\"#ab63fa\",\"#FFA15A\",\"#19d3f3\",\"#FF6692\",\"#B6E880\",\"#FF97FF\",\"#FECB52\"],\"font\":{\"color\":\"#2a3f5f\"},\"hovermode\":\"closest\",\"hoverlabel\":{\"align\":\"left\"},\"paper_bgcolor\":\"white\",\"plot_bgcolor\":\"#E5ECF6\",\"polar\":{\"bgcolor\":\"#E5ECF6\",\"angularaxis\":{\"gridcolor\":\"white\",\"linecolor\":\"white\",\"ticks\":\"\"},\"radialaxis\":{\"gridcolor\":\"white\",\"linecolor\":\"white\",\"ticks\":\"\"}},\"ternary\":{\"bgcolor\":\"#E5ECF6\",\"aaxis\":{\"gridcolor\":\"white\",\"linecolor\":\"white\",\"ticks\":\"\"},\"baxis\":{\"gridcolor\":\"white\",\"linecolor\":\"white\",\"ticks\":\"\"},\"caxis\":{\"gridcolor\":\"white\",\"linecolor\":\"white\",\"ticks\":\"\"}},\"coloraxis\":{\"colorbar\":{\"outlinewidth\":0,\"ticks\":\"\"}},\"colorscale\":{\"sequential\":[[0.0,\"#0d0887\"],[0.1111111111111111,\"#46039f\"],[0.2222222222222222,\"#7201a8\"],[0.3333333333333333,\"#9c179e\"],[0.4444444444444444,\"#bd3786\"],[0.5555555555555556,\"#d8576b\"],[0.6666666666666666,\"#ed7953\"],[0.7777777777777778,\"#fb9f3a\"],[0.8888888888888888,\"#fdca26\"],[1.0,\"#f0f921\"]],\"sequentialminus\":[[0.0,\"#0d0887\"],[0.1111111111111111,\"#46039f\"],[0.2222222222222222,\"#7201a8\"],[0.3333333333333333,\"#9c179e\"],[0.4444444444444444,\"#bd3786\"],[0.5555555555555556,\"#d8576b\"],[0.6666666666666666,\"#ed7953\"],[0.7777777777777778,\"#fb9f3a\"],[0.8888888888888888,\"#fdca26\"],[1.0,\"#f0f921\"]],\"diverging\":[[0,\"#8e0152\"],[0.1,\"#c51b7d\"],[0.2,\"#de77ae\"],[0.3,\"#f1b6da\"],[0.4,\"#fde0ef\"],[0.5,\"#f7f7f7\"],[0.6,\"#e6f5d0\"],[0.7,\"#b8e186\"],[0.8,\"#7fbc41\"],[0.9,\"#4d9221\"],[1,\"#276419\"]]},\"xaxis\":{\"gridcolor\":\"white\",\"linecolor\":\"white\",\"ticks\":\"\",\"title\":{\"standoff\":15},\"zerolinecolor\":\"white\",\"automargin\":true,\"zerolinewidth\":2},\"yaxis\":{\"gridcolor\":\"white\",\"linecolor\":\"white\",\"ticks\":\"\",\"title\":{\"standoff\":15},\"zerolinecolor\":\"white\",\"automargin\":true,\"zerolinewidth\":2},\"scene\":{\"xaxis\":{\"backgroundcolor\":\"#E5ECF6\",\"gridcolor\":\"white\",\"linecolor\":\"white\",\"showbackground\":true,\"ticks\":\"\",\"zerolinecolor\":\"white\",\"gridwidth\":2},\"yaxis\":{\"backgroundcolor\":\"#E5ECF6\",\"gridcolor\":\"white\",\"linecolor\":\"white\",\"showbackground\":true,\"ticks\":\"\",\"zerolinecolor\":\"white\",\"gridwidth\":2},\"zaxis\":{\"backgroundcolor\":\"#E5ECF6\",\"gridcolor\":\"white\",\"linecolor\":\"white\",\"showbackground\":true,\"ticks\":\"\",\"zerolinecolor\":\"white\",\"gridwidth\":2}},\"shapedefaults\":{\"line\":{\"color\":\"#2a3f5f\"}},\"annotationdefaults\":{\"arrowcolor\":\"#2a3f5f\",\"arrowhead\":0,\"arrowwidth\":1},\"geo\":{\"bgcolor\":\"white\",\"landcolor\":\"#E5ECF6\",\"subunitcolor\":\"white\",\"showland\":true,\"showlakes\":true,\"lakecolor\":\"white\"},\"title\":{\"x\":0.05},\"mapbox\":{\"style\":\"light\"}}},\"xaxis\":{\"anchor\":\"y\",\"domain\":[0.0,1.0],\"title\":{\"text\":\"x\"}},\"yaxis\":{\"anchor\":\"x\",\"domain\":[0.0,1.0],\"title\":{\"text\":\"y\"}},\"legend\":{\"tracegroupgap\":0},\"margin\":{\"t\":60}},                        {\"responsive\": true}                    ).then(function(){\n",
              "                            \n",
              "var gd = document.getElementById('2297184c-ca75-49d7-a858-2b17c177c395');\n",
              "var x = new MutationObserver(function (mutations, observer) {{\n",
              "        var display = window.getComputedStyle(gd).display;\n",
              "        if (!display || display === 'none') {{\n",
              "            console.log([gd, 'removed!']);\n",
              "            Plotly.purge(gd);\n",
              "            observer.disconnect();\n",
              "        }}\n",
              "}});\n",
              "\n",
              "// Listen for the removal of the full notebook cells\n",
              "var notebookContainer = gd.closest('#notebook-container');\n",
              "if (notebookContainer) {{\n",
              "    x.observe(notebookContainer, {childList: true});\n",
              "}}\n",
              "\n",
              "// Listen for the clearing of the current output cell\n",
              "var outputEl = gd.closest('.output');\n",
              "if (outputEl) {{\n",
              "    x.observe(outputEl, {childList: true});\n",
              "}}\n",
              "\n",
              "                        })                };                            </script>        </div>\n",
              "</body>\n",
              "</html>"
            ]
          },
          "metadata": {}
        }
      ],
      "source": [
        "# Graficar los embedddings en 2D\n",
        "vecs, labels = reduce_dimensions(w2v_model)\n",
        "\n",
        "MAX_WORDS=200\n",
        "fig = px.scatter(x=vecs[:MAX_WORDS,0], y=vecs[:MAX_WORDS,1], text=labels[:MAX_WORDS])\n",
        "fig.show(renderer=\"colab\") # esto para plotly en colab"
      ]
    },
    {
      "cell_type": "markdown",
      "source": [
        "En la representación se puede observar como las palabras con significados similares se agrupan en clusters. Por ejemplo, los conceptos relacionados con acordes y su formación aparecen cercanos (ej. \"chord\", \"triad\", \"tonic\") así como también los intervalos (\"2nd\", \"3rd\", etc.).\n",
        "\n",
        "Otras palabras ya no tan relacionadas a la música se pueden ver pero algo más dispersas, ya que son utilizadas en muchos contextos diferentes y no en un cluster particular."
      ],
      "metadata": {
        "id": "Kh9CQWnLrzMB"
      }
    },
    {
      "cell_type": "code",
      "execution_count": 99,
      "metadata": {
        "colab": {
          "base_uri": "https://localhost:8080/",
          "height": 542
        },
        "id": "DTeQMFkoZPk-",
        "outputId": "09367d78-e800-40b4-9be4-ea35c3cc1f85"
      },
      "outputs": [
        {
          "output_type": "display_data",
          "data": {
            "text/html": [
              "<html>\n",
              "<head><meta charset=\"utf-8\" /></head>\n",
              "<body>\n",
              "    <div>            <script src=\"https://cdnjs.cloudflare.com/ajax/libs/mathjax/2.7.5/MathJax.js?config=TeX-AMS-MML_SVG\"></script><script type=\"text/javascript\">if (window.MathJax && window.MathJax.Hub && window.MathJax.Hub.Config) {window.MathJax.Hub.Config({SVG: {font: \"STIX-Web\"}});}</script>                <script type=\"text/javascript\">window.PlotlyConfig = {MathJaxConfig: 'local'};</script>\n",
              "        <script charset=\"utf-8\" src=\"https://cdn.plot.ly/plotly-2.24.1.min.js\"></script>                <div id=\"067f1a0d-3c2c-4655-8fcd-779151d10a83\" class=\"plotly-graph-div\" style=\"height:525px; width:100%;\"></div>            <script type=\"text/javascript\">                                    window.PLOTLYENV=window.PLOTLYENV || {};                                    if (document.getElementById(\"067f1a0d-3c2c-4655-8fcd-779151d10a83\")) {                    Plotly.newPlot(                        \"067f1a0d-3c2c-4655-8fcd-779151d10a83\",                        [{\"hovertemplate\":\"x=%{x}\\u003cbr\\u003ey=%{y}\\u003cbr\\u003ez=%{z}\\u003cbr\\u003etext=%{text}\\u003cextra\\u003e\\u003c\\u002fextra\\u003e\",\"legendgroup\":\"\",\"marker\":{\"color\":\"#636efa\",\"symbol\":\"circle\",\"size\":2},\"mode\":\"markers+text\",\"name\":\"\",\"scene\":\"scene\",\"showlegend\":false,\"text\":[\"the\",\"of\",\"and\",\"a\",\"is\",\"in\",\"to\",\"or\",\"music\",\"illustration\",\"1\",\"are\",\"scale\",\"minor\",\"by\",\"major\",\"c\",\"this\",\"be\",\"e\",\"with\",\"2\",\"f\",\"as\",\"b\",\"project\",\"4\",\"6\",\"it\",\"you\",\"has\",\"d\",\"g\",\"5\",\"for\",\"which\",\"not\",\"intervals\",\"seventh\",\"note\",\"all\",\"3\",\"chord\",\"on\",\"any\",\"gutenberg\\u2122\",\"that\",\"flats\",\"called\",\"tone\",\"7\",\"sharps\",\"an\",\"may\",\"interval\",\"one\",\"work\",\"from\",\"augmented\",\"keys\",\"fourth\",\"second\",\"its\",\"if\",\"8\",\"should\",\"key\",\"fifth\",\"diminished\",\"two\",\"but\",\"at\",\"half\",\"double\",\"student\",\"between\",\"gutenberg\",\"sharp\",\"f\\u266f\",\"third\",\"tones\",\"following\",\"perfect\",\"octave\",\"than\",\"works\",\"\\u266f\",\"c\\u266f\",\"harmonic\",\"b\\u266d\",\"sixth\",\"flat\",\"triad\",\"other\",\"notes\",\"these\",\"melodic\",\"fundamental\",\"chords\",\"do\",\"will\",\"what\",\"used\",\"electronic\",\"e\\u266d\",\"7\\u23238\",\"each\",\"three\",\"four\",\"a\\u266d\",\"no\",\"use\",\"tonic\",\"scales\",\"3\\u23234\",\"g\\u266f\",\"step\",\"same\",\"terms\",\"bass\",\"group\",\"pitch\",\"\\u266d\\u266d\",\"have\",\"steps\",\"d\\u266f\",\"name\",\"9\",\"d\\u266d\",\"whole\",\"more\",\"signature\",\"copyright\",\"number\",\"g\\u266d\",\"found\",\"a\\u266f\",\"having\",\"foundation\",\"\\u266d\",\"sound\",\"different\",\"states\",\"thus\",\"can\",\"many\",\"exercise\",\"form\",\"prime\",\"most\",\"notice\",\"agreement\",\"both\",\"inversion\",\"letters\",\"license\",\"must\",\"etc\",\"given\",\"x\",\"lower\",\"2nd\",\"rest\",\"teacher\",\"before\",\"above\",\"when\",\"i\",\"7th\",\"ear\",\"united\",\"c\\u266d\",\"rule\",\"black\",\"order\",\"seven\",\"exercises\",\"there\",\"time\",\"6th\",\"3rd\",\"over\",\"such\",\"vibrations\",\"triads\",\"donations\",\"below\",\"played\",\"six\",\"first\",\"trademark\",\"theory\",\"under\",\"staff\",\"upper\",\"archive\",\"white\",\"subtonic\",\"clef\",\"we\"],\"x\":[14.007816314697266,14.057160377502441,12.174181938171387,12.223987579345703,13.66996955871582,1.1297509670257568,-14.872366905212402,7.197456359863281,14.897342681884766,14.958547592163086,17.026517868041992,5.863903045654297,14.261789321899414,17.078075408935547,-0.18389040231704712,17.105464935302734,14.9417142868042,-21.592470169067383,-14.964487075805664,16.543575286865234,-20.2146053314209,19.29763412475586,14.920736312866211,2.629776954650879,16.09407615661621,-24.889392852783203,18.416086196899414,20.077800750732422,-13.234319686889648,-18.362714767456055,13.718031883239746,15.53794002532959,15.32558536529541,20.12105941772461,-20.31246566772461,2.0603506565093994,-14.839158058166504,-4.418595314025879,18.12495994567871,9.286528587341309,-5.29819393157959,17.71904945373535,17.519994735717773,15.474632263183594,-23.65151023864746,-25.372488021850586,8.458451271057129,14.065303802490234,1.2735799551010132,3.8422160148620605,18.290000915527344,14.076491355895996,2.815211057662964,-15.587712287902832,4.444574356079102,6.062867641448975,-24.298662185668945,3.0438520908355713,17.65538787841797,8.31908893585205,16.05162811279297,9.783909797668457,8.088028907775879,-18.908016204833984,18.0966796875,-15.175312042236328,8.467846870422363,16.05902671813965,17.81201171875,13.00062084197998,4.805418491363525,-19.13936424255371,6.684071063995361,8.815844535827637,-14.80905532836914,18.750904083251953,-22.683860778808594,10.66482162475586,17.650146484375,17.758241653442383,5.429887771606445,9.297877311706543,17.407625198364258,15.385257720947266,7.145108699798584,-25.19139862060547,15.099117279052734,17.860109329223633,15.87459659576416,15.215778350830078,17.9655704498291,10.651029586791992,17.645231246948242,-23.31186294555664,9.28254508972168,-4.206511497497559,15.723761558532715,16.09291648864746,16.374723434448242,-17.273040771484375,-13.63449478149414,12.799779891967773,4.435075283050537,-25.295263290405273,15.171893119812012,20.389726638793945,-6.845180034637451,13.761999130249023,13.892781257629395,15.23214340209961,10.271036148071289,-21.694711685180664,13.917802810668945,15.899130821228027,20.388446807861328,18.253664016723633,6.140240669250488,3.7609899044036865,-23.589527130126953,19.213281631469727,9.669458389282227,4.981314182281494,15.51307201385498,-14.741484642028809,18.760818481445312,18.13532829284668,2.069631338119507,18.046831130981445,15.166937828063965,7.798415184020996,7.2921929359436035,8.999753952026367,-20.76300048828125,10.188583374023438,14.872620582580566,16.37451934814453,18.162681579589844,8.91760540008545,-21.596702575683594,15.261746406555176,-9.80661678314209,5.12786340713501,-18.096790313720703,13.843221664428711,-16.172693252563477,-13.02880573272705,-8.456395149230957,14.547409057617188,16.761859893798828,-17.610990524291992,8.609801292419434,-23.528701782226562,15.680734634399414,17.745622634887695,8.227673530578613,-24.313129425048828,-16.191675186157227,15.691020011901855,-14.645209312438965,17.653785705566406,3.4059059619903564,17.74787712097168,8.110241889953613,-14.497818946838379,-12.891448974609375,12.775126457214355,4.301172733306885,15.416342735290527,17.877962112426758,-9.17959213256836,-17.973649978637695,14.930645942687988,15.579498291015625,8.673701286315918,8.45386791229248,13.395068168640137,-14.8297119140625,7.624470233917236,2.9059014320373535,18.1118221282959,18.149011611938477,18.58414649963379,-9.625517845153809,8.831330299377441,15.67116928100586,-19.699052810668945,18.60611915588379,3.89106822013855,14.039281845092773,16.257736206054688,-23.956069946289062,8.963672637939453,-20.131593704223633,14.415528297424316,3.099250555038452,-22.026927947998047,8.594019889831543,17.445873260498047,14.039015769958496,-14.753681182861328],\"y\":[-5.958162784576416,-2.7017462253570557,-4.062938690185547,-1.1212728023529053,-2.21134352684021,-8.633291244506836,6.706387042999268,-11.792582511901855,1.6410224437713623,1.5623759031295776,-4.413947582244873,-5.387177467346191,-0.7175934314727783,-10.236556053161621,-11.67838191986084,-9.964207649230957,1.5764415264129639,3.0950140953063965,-5.45404577255249,0.6645838618278503,-1.2044458389282227,-4.10470724105835,1.6264067888259888,-7.564707279205322,0.5325069427490234,4.415841102600098,-4.240486145019531,-3.4315860271453857,-7.999949932098389,-1.788004994392395,-1.6464797258377075,1.020007848739624,1.2949637174606323,-3.4762320518493652,2.1876871585845947,-8.822652816772461,-6.631553649902344,-4.890868186950684,-7.471146583557129,-14.20762825012207,-4.153003215789795,-4.571243762969971,-7.082796573638916,-5.460210800170898,0.30320626497268677,3.6331350803375244,-2.2034435272216797,-1.098192811012268,-11.154438018798828,-15.173237800598145,-4.3960981369018555,-1.0628474950790405,-13.426509857177734,-5.06282377243042,-15.81091594696045,-14.960103034973145,1.2642196416854858,-13.100576400756836,-7.679445266723633,-7.334036827087402,-2.3689653873443604,-10.959660530090332,-9.936074256896973,-2.5565619468688965,-4.790673732757568,-6.65757942199707,-7.537521839141846,-2.3762319087982178,-7.8204450607299805,-4.103567123413086,-9.154571533203125,8.530339241027832,-15.682943344116211,-15.411415100097656,-5.427798271179199,-3.6448042392730713,6.595348834991455,-4.407195568084717,1.3273015022277832,-7.501838684082031,-12.935647964477539,-5.801502227783203,-7.444646835327148,-7.403770446777344,-10.420587539672852,2.4877490997314453,-0.8791740536689758,1.5939158201217651,-9.917444229125977,3.673640012741089,-7.404591083526611,-4.415966987609863,-8.001130104064941,1.158148169517517,-10.457932472229004,-4.318721771240234,-9.706109046936035,-5.850433826446533,-8.660840034484863,-3.190757989883423,-7.7682271003723145,-6.516099452972412,-6.288145542144775,2.867694139480591,3.9710254669189453,-3.460500478744507,-6.770657062530518,-3.6324875354766846,-3.3718795776367188,4.115210056304932,-1.7585773468017578,3.1903135776519775,-7.264337539672852,-10.149982452392578,-3.469886302947998,1.6526155471801758,-15.529223442077637,-10.46507740020752,1.108778476715088,-0.13036656379699707,-8.47380256652832,-8.910950660705566,-0.272051066160202,-5.472757816314697,-3.6489524841308594,1.495584487915039,-13.435173034667969,-4.8797807693481445,4.351561069488525,-15.212445259094238,-10.225099563598633,-4.989258289337158,0.670168399810791,-7.796823024749756,4.226903438568115,-6.793509006500244,1.6711639165878296,-8.501514434814453,6.9780683517456055,-0.6596028804779053,-7.202195644378662,-8.443421363830566,-4.682199954986572,-1.282547116279602,-5.93099308013916,-3.0904550552368164,-4.606557369232178,-9.284395217895508,-7.419772148132324,-3.3000550270080566,-2.252504348754883,1.0343899726867676,-8.690343856811523,-7.544342517852783,-5.395235538482666,3.986332893371582,-5.9427170753479,0.46004411578178406,-6.149001598358154,2.0561282634735107,-14.18161678314209,-7.851521968841553,-15.149736404418945,-5.503232479095459,-9.01557731628418,-2.45859432220459,-11.989542961120605,3.915614604949951,-7.614742755889893,-8.755513191223145,-4.578662395477295,4.569727897644043,-3.949235200881958,-8.533076286315918,-5.367034435272217,-2.613064765930176,-5.300734996795654,-3.6560511589050293,2.103813409805298,-7.795346260070801,-7.956478118896484,-1.0152446031570435,-7.320223808288574,-10.013161659240723,-9.118584632873535,6.314095973968506,0.14988447725772858,-7.26934289932251,-2.5455245971679688,-7.233250617980957,3.9150125980377197,7.407878875732422,-0.22297705709934235,-4.877379894256592,-14.062897682189941,6.961334705352783,-8.519742012023926,-7.803182601928711,0.44676995277404785,-5.9086995124816895],\"z\":[0.5725196599960327,3.0249459743499756,6.31514835357666,1.8611170053482056,1.78275465965271,11.652534484863281,-4.084704399108887,2.8459177017211914,2.2624704837799072,4.321295738220215,-8.181313514709473,13.004146575927734,2.9430315494537354,-0.14966654777526855,3.211010694503784,-0.16039717197418213,5.881364822387695,-6.22102689743042,11.130962371826172,7.110642433166504,-4.606461048126221,-7.004624843597412,6.2259626388549805,14.017254829406738,7.142765998840332,-0.09521273523569107,-7.876949310302734,-6.765832424163818,7.523266792297363,2.2750794887542725,9.202747344970703,6.688154220581055,6.460878849029541,-6.860395431518555,-6.3048996925354,10.141088485717773,2.4294793605804443,13.909350395202637,0.8012934327125549,4.08456563949585,14.353775978088379,-7.146119117736816,3.6516952514648438,3.708205223083496,-3.306893825531006,-1.9263553619384766,12.148250579833984,10.53668212890625,9.928301811218262,4.893296718597412,-4.93745231628418,10.568483352661133,1.2062861919403076,7.502377033233643,3.3542346954345703,4.97649621963501,-2.1686172485351562,-2.3518004417419434,-3.0415782928466797,12.609286308288574,7.078469753265381,2.961977958679199,7.136751651763916,0.21330751478672028,-5.884283065795898,9.545344352722168,12.501026153564453,7.070042133331299,-3.583211660385132,10.975831985473633,12.578217506408691,0.9430428147315979,3.72135066986084,5.8938374519348145,10.9406156539917,-2.395643711090088,2.2232353687286377,13.130494117736816,5.930396556854248,-0.92915940284729,1.0384405851364136,5.657751083374023,-2.7282509803771973,-3.9412600994110107,10.080644607543945,-1.688732624053955,8.174328804016113,6.270927429199219,0.6654075980186462,5.053071975708008,-0.4611406922340393,13.134685516357422,-0.5541033744812012,-3.938661575317383,6.635651111602783,13.654687881469727,0.7565327286720276,1.796773910522461,5.433716773986816,2.2891156673431396,9.413045883178711,-4.3086419105529785,12.889348983764648,-2.3855667114257812,5.087442398071289,-7.946734428405762,12.312820434570312,9.458908081054688,9.348424911499023,4.88777494430542,9.850983619689941,-5.731576442718506,-0.008136019110679626,2.4038989543914795,-8.040068626403809,6.081584930419922,3.803971529006958,10.064939498901367,0.3209220767021179,-4.716061592102051,8.234750747680664,12.146470069885254,7.8491291999816895,3.342892646789551,-2.3758723735809326,5.641920566558838,2.687778949737549,-5.744888782501221,4.666748046875,4.449210166931152,10.16061019897461,13.11584186553955,2.8594882488250732,9.96303939819336,4.737397193908691,2.1171913146972656,5.796813011169434,11.3001070022583,2.2914607524871826,8.073974609375,5.723109722137451,11.998432159423828,2.1580119132995605,2.8563644886016846,5.7220988273620605,11.686271667480469,13.022656440734863,-1.5399986505508423,-4.220188140869141,-5.894680976867676,11.560725212097168,0.3659878671169281,2.597994089126587,-0.6845584511756897,11.952177047729492,-0.36990222334861755,5.710743427276611,-3.5122995376586914,9.236741065979004,5.7515106201171875,5.456693172454834,-4.846493244171143,4.4502482414245605,10.281875610351562,10.577160835266113,3.7336008548736572,7.596573829650879,1.0495387315750122,-5.056212425231934,9.562179565429688,2.0841288566589355,4.36745023727417,-4.0274434089660645,11.553367614746094,12.344456672668457,10.289704322814941,9.487576484680176,9.644814491271973,8.817150115966797,-5.307954788208008,-5.088739395141602,-5.02285099029541,9.237329483032227,4.033868312835693,4.657158374786377,1.6242454051971436,-3.286238431930542,11.306458473205566,9.405627250671387,2.1489241123199463,-0.4276481866836548,1.8875722885131836,-8.244325637817383,3.631685733795166,5.76383638381958,2.1618688106536865,11.620163917541504,2.0456743240356445,-0.10886628925800323,2.530900716781616],\"type\":\"scatter3d\"}],                        {\"template\":{\"data\":{\"histogram2dcontour\":[{\"type\":\"histogram2dcontour\",\"colorbar\":{\"outlinewidth\":0,\"ticks\":\"\"},\"colorscale\":[[0.0,\"#0d0887\"],[0.1111111111111111,\"#46039f\"],[0.2222222222222222,\"#7201a8\"],[0.3333333333333333,\"#9c179e\"],[0.4444444444444444,\"#bd3786\"],[0.5555555555555556,\"#d8576b\"],[0.6666666666666666,\"#ed7953\"],[0.7777777777777778,\"#fb9f3a\"],[0.8888888888888888,\"#fdca26\"],[1.0,\"#f0f921\"]]}],\"choropleth\":[{\"type\":\"choropleth\",\"colorbar\":{\"outlinewidth\":0,\"ticks\":\"\"}}],\"histogram2d\":[{\"type\":\"histogram2d\",\"colorbar\":{\"outlinewidth\":0,\"ticks\":\"\"},\"colorscale\":[[0.0,\"#0d0887\"],[0.1111111111111111,\"#46039f\"],[0.2222222222222222,\"#7201a8\"],[0.3333333333333333,\"#9c179e\"],[0.4444444444444444,\"#bd3786\"],[0.5555555555555556,\"#d8576b\"],[0.6666666666666666,\"#ed7953\"],[0.7777777777777778,\"#fb9f3a\"],[0.8888888888888888,\"#fdca26\"],[1.0,\"#f0f921\"]]}],\"heatmap\":[{\"type\":\"heatmap\",\"colorbar\":{\"outlinewidth\":0,\"ticks\":\"\"},\"colorscale\":[[0.0,\"#0d0887\"],[0.1111111111111111,\"#46039f\"],[0.2222222222222222,\"#7201a8\"],[0.3333333333333333,\"#9c179e\"],[0.4444444444444444,\"#bd3786\"],[0.5555555555555556,\"#d8576b\"],[0.6666666666666666,\"#ed7953\"],[0.7777777777777778,\"#fb9f3a\"],[0.8888888888888888,\"#fdca26\"],[1.0,\"#f0f921\"]]}],\"heatmapgl\":[{\"type\":\"heatmapgl\",\"colorbar\":{\"outlinewidth\":0,\"ticks\":\"\"},\"colorscale\":[[0.0,\"#0d0887\"],[0.1111111111111111,\"#46039f\"],[0.2222222222222222,\"#7201a8\"],[0.3333333333333333,\"#9c179e\"],[0.4444444444444444,\"#bd3786\"],[0.5555555555555556,\"#d8576b\"],[0.6666666666666666,\"#ed7953\"],[0.7777777777777778,\"#fb9f3a\"],[0.8888888888888888,\"#fdca26\"],[1.0,\"#f0f921\"]]}],\"contourcarpet\":[{\"type\":\"contourcarpet\",\"colorbar\":{\"outlinewidth\":0,\"ticks\":\"\"}}],\"contour\":[{\"type\":\"contour\",\"colorbar\":{\"outlinewidth\":0,\"ticks\":\"\"},\"colorscale\":[[0.0,\"#0d0887\"],[0.1111111111111111,\"#46039f\"],[0.2222222222222222,\"#7201a8\"],[0.3333333333333333,\"#9c179e\"],[0.4444444444444444,\"#bd3786\"],[0.5555555555555556,\"#d8576b\"],[0.6666666666666666,\"#ed7953\"],[0.7777777777777778,\"#fb9f3a\"],[0.8888888888888888,\"#fdca26\"],[1.0,\"#f0f921\"]]}],\"surface\":[{\"type\":\"surface\",\"colorbar\":{\"outlinewidth\":0,\"ticks\":\"\"},\"colorscale\":[[0.0,\"#0d0887\"],[0.1111111111111111,\"#46039f\"],[0.2222222222222222,\"#7201a8\"],[0.3333333333333333,\"#9c179e\"],[0.4444444444444444,\"#bd3786\"],[0.5555555555555556,\"#d8576b\"],[0.6666666666666666,\"#ed7953\"],[0.7777777777777778,\"#fb9f3a\"],[0.8888888888888888,\"#fdca26\"],[1.0,\"#f0f921\"]]}],\"mesh3d\":[{\"type\":\"mesh3d\",\"colorbar\":{\"outlinewidth\":0,\"ticks\":\"\"}}],\"scatter\":[{\"fillpattern\":{\"fillmode\":\"overlay\",\"size\":10,\"solidity\":0.2},\"type\":\"scatter\"}],\"parcoords\":[{\"type\":\"parcoords\",\"line\":{\"colorbar\":{\"outlinewidth\":0,\"ticks\":\"\"}}}],\"scatterpolargl\":[{\"type\":\"scatterpolargl\",\"marker\":{\"colorbar\":{\"outlinewidth\":0,\"ticks\":\"\"}}}],\"bar\":[{\"error_x\":{\"color\":\"#2a3f5f\"},\"error_y\":{\"color\":\"#2a3f5f\"},\"marker\":{\"line\":{\"color\":\"#E5ECF6\",\"width\":0.5},\"pattern\":{\"fillmode\":\"overlay\",\"size\":10,\"solidity\":0.2}},\"type\":\"bar\"}],\"scattergeo\":[{\"type\":\"scattergeo\",\"marker\":{\"colorbar\":{\"outlinewidth\":0,\"ticks\":\"\"}}}],\"scatterpolar\":[{\"type\":\"scatterpolar\",\"marker\":{\"colorbar\":{\"outlinewidth\":0,\"ticks\":\"\"}}}],\"histogram\":[{\"marker\":{\"pattern\":{\"fillmode\":\"overlay\",\"size\":10,\"solidity\":0.2}},\"type\":\"histogram\"}],\"scattergl\":[{\"type\":\"scattergl\",\"marker\":{\"colorbar\":{\"outlinewidth\":0,\"ticks\":\"\"}}}],\"scatter3d\":[{\"type\":\"scatter3d\",\"line\":{\"colorbar\":{\"outlinewidth\":0,\"ticks\":\"\"}},\"marker\":{\"colorbar\":{\"outlinewidth\":0,\"ticks\":\"\"}}}],\"scattermapbox\":[{\"type\":\"scattermapbox\",\"marker\":{\"colorbar\":{\"outlinewidth\":0,\"ticks\":\"\"}}}],\"scatterternary\":[{\"type\":\"scatterternary\",\"marker\":{\"colorbar\":{\"outlinewidth\":0,\"ticks\":\"\"}}}],\"scattercarpet\":[{\"type\":\"scattercarpet\",\"marker\":{\"colorbar\":{\"outlinewidth\":0,\"ticks\":\"\"}}}],\"carpet\":[{\"aaxis\":{\"endlinecolor\":\"#2a3f5f\",\"gridcolor\":\"white\",\"linecolor\":\"white\",\"minorgridcolor\":\"white\",\"startlinecolor\":\"#2a3f5f\"},\"baxis\":{\"endlinecolor\":\"#2a3f5f\",\"gridcolor\":\"white\",\"linecolor\":\"white\",\"minorgridcolor\":\"white\",\"startlinecolor\":\"#2a3f5f\"},\"type\":\"carpet\"}],\"table\":[{\"cells\":{\"fill\":{\"color\":\"#EBF0F8\"},\"line\":{\"color\":\"white\"}},\"header\":{\"fill\":{\"color\":\"#C8D4E3\"},\"line\":{\"color\":\"white\"}},\"type\":\"table\"}],\"barpolar\":[{\"marker\":{\"line\":{\"color\":\"#E5ECF6\",\"width\":0.5},\"pattern\":{\"fillmode\":\"overlay\",\"size\":10,\"solidity\":0.2}},\"type\":\"barpolar\"}],\"pie\":[{\"automargin\":true,\"type\":\"pie\"}]},\"layout\":{\"autotypenumbers\":\"strict\",\"colorway\":[\"#636efa\",\"#EF553B\",\"#00cc96\",\"#ab63fa\",\"#FFA15A\",\"#19d3f3\",\"#FF6692\",\"#B6E880\",\"#FF97FF\",\"#FECB52\"],\"font\":{\"color\":\"#2a3f5f\"},\"hovermode\":\"closest\",\"hoverlabel\":{\"align\":\"left\"},\"paper_bgcolor\":\"white\",\"plot_bgcolor\":\"#E5ECF6\",\"polar\":{\"bgcolor\":\"#E5ECF6\",\"angularaxis\":{\"gridcolor\":\"white\",\"linecolor\":\"white\",\"ticks\":\"\"},\"radialaxis\":{\"gridcolor\":\"white\",\"linecolor\":\"white\",\"ticks\":\"\"}},\"ternary\":{\"bgcolor\":\"#E5ECF6\",\"aaxis\":{\"gridcolor\":\"white\",\"linecolor\":\"white\",\"ticks\":\"\"},\"baxis\":{\"gridcolor\":\"white\",\"linecolor\":\"white\",\"ticks\":\"\"},\"caxis\":{\"gridcolor\":\"white\",\"linecolor\":\"white\",\"ticks\":\"\"}},\"coloraxis\":{\"colorbar\":{\"outlinewidth\":0,\"ticks\":\"\"}},\"colorscale\":{\"sequential\":[[0.0,\"#0d0887\"],[0.1111111111111111,\"#46039f\"],[0.2222222222222222,\"#7201a8\"],[0.3333333333333333,\"#9c179e\"],[0.4444444444444444,\"#bd3786\"],[0.5555555555555556,\"#d8576b\"],[0.6666666666666666,\"#ed7953\"],[0.7777777777777778,\"#fb9f3a\"],[0.8888888888888888,\"#fdca26\"],[1.0,\"#f0f921\"]],\"sequentialminus\":[[0.0,\"#0d0887\"],[0.1111111111111111,\"#46039f\"],[0.2222222222222222,\"#7201a8\"],[0.3333333333333333,\"#9c179e\"],[0.4444444444444444,\"#bd3786\"],[0.5555555555555556,\"#d8576b\"],[0.6666666666666666,\"#ed7953\"],[0.7777777777777778,\"#fb9f3a\"],[0.8888888888888888,\"#fdca26\"],[1.0,\"#f0f921\"]],\"diverging\":[[0,\"#8e0152\"],[0.1,\"#c51b7d\"],[0.2,\"#de77ae\"],[0.3,\"#f1b6da\"],[0.4,\"#fde0ef\"],[0.5,\"#f7f7f7\"],[0.6,\"#e6f5d0\"],[0.7,\"#b8e186\"],[0.8,\"#7fbc41\"],[0.9,\"#4d9221\"],[1,\"#276419\"]]},\"xaxis\":{\"gridcolor\":\"white\",\"linecolor\":\"white\",\"ticks\":\"\",\"title\":{\"standoff\":15},\"zerolinecolor\":\"white\",\"automargin\":true,\"zerolinewidth\":2},\"yaxis\":{\"gridcolor\":\"white\",\"linecolor\":\"white\",\"ticks\":\"\",\"title\":{\"standoff\":15},\"zerolinecolor\":\"white\",\"automargin\":true,\"zerolinewidth\":2},\"scene\":{\"xaxis\":{\"backgroundcolor\":\"#E5ECF6\",\"gridcolor\":\"white\",\"linecolor\":\"white\",\"showbackground\":true,\"ticks\":\"\",\"zerolinecolor\":\"white\",\"gridwidth\":2},\"yaxis\":{\"backgroundcolor\":\"#E5ECF6\",\"gridcolor\":\"white\",\"linecolor\":\"white\",\"showbackground\":true,\"ticks\":\"\",\"zerolinecolor\":\"white\",\"gridwidth\":2},\"zaxis\":{\"backgroundcolor\":\"#E5ECF6\",\"gridcolor\":\"white\",\"linecolor\":\"white\",\"showbackground\":true,\"ticks\":\"\",\"zerolinecolor\":\"white\",\"gridwidth\":2}},\"shapedefaults\":{\"line\":{\"color\":\"#2a3f5f\"}},\"annotationdefaults\":{\"arrowcolor\":\"#2a3f5f\",\"arrowhead\":0,\"arrowwidth\":1},\"geo\":{\"bgcolor\":\"white\",\"landcolor\":\"#E5ECF6\",\"subunitcolor\":\"white\",\"showland\":true,\"showlakes\":true,\"lakecolor\":\"white\"},\"title\":{\"x\":0.05},\"mapbox\":{\"style\":\"light\"}}},\"scene\":{\"domain\":{\"x\":[0.0,1.0],\"y\":[0.0,1.0]},\"xaxis\":{\"title\":{\"text\":\"x\"}},\"yaxis\":{\"title\":{\"text\":\"y\"}},\"zaxis\":{\"title\":{\"text\":\"z\"}}},\"legend\":{\"tracegroupgap\":0},\"margin\":{\"t\":60}},                        {\"responsive\": true}                    ).then(function(){\n",
              "                            \n",
              "var gd = document.getElementById('067f1a0d-3c2c-4655-8fcd-779151d10a83');\n",
              "var x = new MutationObserver(function (mutations, observer) {{\n",
              "        var display = window.getComputedStyle(gd).display;\n",
              "        if (!display || display === 'none') {{\n",
              "            console.log([gd, 'removed!']);\n",
              "            Plotly.purge(gd);\n",
              "            observer.disconnect();\n",
              "        }}\n",
              "}});\n",
              "\n",
              "// Listen for the removal of the full notebook cells\n",
              "var notebookContainer = gd.closest('#notebook-container');\n",
              "if (notebookContainer) {{\n",
              "    x.observe(notebookContainer, {childList: true});\n",
              "}}\n",
              "\n",
              "// Listen for the clearing of the current output cell\n",
              "var outputEl = gd.closest('.output');\n",
              "if (outputEl) {{\n",
              "    x.observe(outputEl, {childList: true});\n",
              "}}\n",
              "\n",
              "                        })                };                            </script>        </div>\n",
              "</body>\n",
              "</html>"
            ]
          },
          "metadata": {}
        }
      ],
      "source": [
        "# Se grafican los embeddings en 3D\n",
        "\n",
        "vecs, labels = reduce_dimensions(w2v_model,3)\n",
        "\n",
        "fig = px.scatter_3d(x=vecs[:MAX_WORDS,0], y=vecs[:MAX_WORDS,1], z=vecs[:MAX_WORDS,2],text=labels[:MAX_WORDS])\n",
        "fig.update_traces(marker_size = 2)\n",
        "fig.show(renderer=\"colab\")"
      ]
    },
    {
      "cell_type": "markdown",
      "source": [
        "En esta representación tridimensional se aprecia una mayor dispersión de los puntos y tal vez resulte un poco más difícil la visualización. De todas formas, es posible notar algunos grupos con significados similares que también se podían ver en dos dimensiones. Dos vectores cuya representación es muy cercana en este caso es \"student\" y \"teacher\" que aparecen a una distancia relativamente pequeña.\n",
        "\n",
        "Claramente, también se puede observar que los conceptos que aparecían agrupados en la versión bidimensional, también lo están aquí por lo general."
      ],
      "metadata": {
        "id": "icvUsLB3Qb7H"
      }
    },
    {
      "cell_type": "markdown",
      "source": [
        "A continuación se generan archivos tsv con los vectores y metadatos para poder visualizarlos en http://projector.tensorflow.org/."
      ],
      "metadata": {
        "id": "kOF-yaKjKSAx"
      }
    },
    {
      "cell_type": "code",
      "execution_count": 100,
      "metadata": {
        "id": "h0fNUropZPk_"
      },
      "outputs": [],
      "source": [
        "# Se generan vectores y labels como tsv para visualización en http://projector.tensorflow.org/\n",
        "vectors = np.asarray(w2v_model.wv.vectors)\n",
        "labels = list(w2v_model.wv.index_to_key)\n",
        "\n",
        "np.savetxt(\"vectors.tsv\", vectors, delimiter=\"\\t\")\n",
        "\n",
        "with open(\"labels.tsv\", \"w\") as fp:\n",
        "    for item in labels:\n",
        "        fp.write(\"%s\\n\" % item)"
      ]
    },
    {
      "cell_type": "markdown",
      "source": [
        "En la visualización de http://projector.tensorflow.org/ se observan con mayor claridad las agrupaciones de términos relacionados. Las palabras con significados similares se agrupan en clusters más definidos, lo cual facilita la detección de relaciones semánticas. Además, su interfaz permite fácilmente variar entre diferentes ténicas de reducción de dimensionalidad (ej. TCA, t-SNE, UMAP).\n",
        "\n",
        "En el directorio de este trabajo se adjuntan los archivos *vectors.tsv* y *labels.tsv* generados para poder desplegarlos en dicha plataforma."
      ],
      "metadata": {
        "id": "MS2rDqWOKf5g"
      }
    },
    {
      "cell_type": "markdown",
      "source": [
        "### Conclusiones generales\n",
        "\n",
        "En este trabajo se creó un modelo Word2Vec con arquitectura Skipgram que capturas algunas relaciones semánticas entre palabras basado en un libro de teoría musical. Se identificaron algunas analogías interesantes, pero también se intentaron otras más complejas que no tuvieron resultados coherentes. Esto puede deberse a que el tamaño del corpus es relativamente pequeño y que además los conceptos musicales son explicados de manera muy básica.\n",
        "\n",
        "Seguramente se obtengan mejores resultados con un corpus de mayor tamaño que permita generar vectorizaciones con embeddings de mayor dimensionalidad, y así capturar relaciones semánticas más complejas."
      ],
      "metadata": {
        "id": "oP9pPNa3SsgK"
      }
    }
  ],
  "metadata": {
    "colab": {
      "provenance": []
    },
    "kernelspec": {
      "display_name": "Python 3 (ipykernel)",
      "language": "python",
      "name": "python3"
    },
    "language_info": {
      "codemirror_mode": {
        "name": "ipython",
        "version": 3
      },
      "file_extension": ".py",
      "mimetype": "text/x-python",
      "name": "python",
      "nbconvert_exporter": "python",
      "pygments_lexer": "ipython3",
      "version": "3.10.6"
    }
  },
  "nbformat": 4,
  "nbformat_minor": 0
}